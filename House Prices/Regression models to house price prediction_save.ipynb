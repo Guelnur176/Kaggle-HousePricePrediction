{
 "cells": [
  {
   "cell_type": "markdown",
   "metadata": {
    "collapsed": true
   },
   "source": [
    "<center>**Machine Learning 1 - Professor Dr. Yuxiao Huang** </center>\n",
    "<center>**Christian Braz - Toufik Bouras** </center>\n",
    "<center>Data Science, Columbian College of Arts & Sciences </center>\n",
    "<center>George Washington University </center>\n",
    "\n",
    "# Introduction \n",
    "\n",
    "In this article we discuss our work in the House Price prediction problem. This problem is a classic regression problem in which the aim is trying to predict the selling price of a house given its attributes. The motivation in executing such analysis is to provide to the real estate market accurate information about expected values of properties. \n",
    "\n",
    "We conduct an evaluation of eight regression algorithms comparing their accuracies.This work is organized in the following way: \n",
    "\n",
    "1. Methodology\n",
    "1. Understanding and cleaning the data\n",
    "1. Regression Models\n",
    " 1. Linear Regression\n",
    "     1. Ordinary Least Squares\n",
    "     1. Ridge\n",
    "     1. Lasso\n",
    "     1. Elastic Net\n",
    " 1. Suport Vector Machine\n",
    " 1. Neural Network\n",
    " 1. Random Forests \n",
    " 1. Deep Learning with TensorFlow \n",
    "1. Discussion\n",
    "\n",
    "\n",
    "# Methodology\n",
    "\n",
    "\n",
    "As we are dealing with a regression problem, an appropriated metric is the Root Mean Squared Error or RMSE. The methodology employed was:\n",
    "\n",
    "* Each method trained using cross-validation with five-folds.\n",
    "* Final RMSE is calculated based on the average results of all training steps.   \n",
    "\n",
    "Using cross-validation is a common way to assess the predictive performance of the models and to judge how they perform outside the sample (and assess their generalization strengh). \n",
    "\n",
    "\n",
    "# Understanding and cleaning the data\n",
    "\n",
    "As mentioned by several authors, much of the work in make a good model is related to a good feature engineering process. This phase encompasses tasks such as: cleaning, feature transformations, feature selection and feature scaling. In this section we describe the steps we did toward getting a better understanding about the data and make it more suitable for statistical analysis. \n",
    "\n",
    "\n",
    "## The data set\n",
    "\n",
    "The house prices [data set](https://www.kaggle.com/c/house-prices-advanced-regression-techniques/data) \n",
    "has 81 features and the objective is to predict SalePrice. Analyzing the dictionary that is available we \n",
    "could notice a potential problem - several categorical features has an 'NA' value to denote the absence of some characteristic and Python interprets NAs as a missing value. Next follows an example:\n",
    "  \n",
    "```\n",
    "    Alley: Type of alley access to property\n",
    "\n",
    "       Grvl\tGravel\n",
    "       Pave\tPaved\n",
    "       NA \tNo alley access\n",
    "\n",
    "```\n",
    "\n",
    "\n",
    "## Missing values\n",
    "\n",
    "Maybe the most common problem in real datasets are missing values. Sometimes, instead of a blank in the position, a wildcard is used like '?' or 'NA'. In this work, besides the missing values we have also the problem described above, where 'NA' is being used to denote other kind of information. To solve this issue, all 'NA' value being used in categorical fields were replaced by the value 'No' which denotes the absence of some characteristic.\n",
    "\n"
   ]
  },
  {
   "cell_type": "code",
   "execution_count": 1,
   "metadata": {
    "collapsed": true
   },
   "outputs": [],
   "source": [
    "import matplotlib.pyplot as plt\n",
    "import numpy as np\n",
    "import pandas as pd\n",
    "import seaborn as sns\n",
    "import warnings\n",
    "warnings.filterwarnings('ignore')\n",
    "\n",
    "np.set_printoptions(threshold=np.nan) #to print all the elements of a matrix\n",
    "#pd.set_option('display.max_rows', 2000)#to print all the elements of a data frame\n",
    "\n",
    "%matplotlib inline\n",
    "    \n",
    "df = pd.read_csv(\"train.csv\",na_values=['?',''],delimiter=',',delim_whitespace=False)\n",
    "data_aux = df"
   ]
  },
  {
   "cell_type": "code",
   "execution_count": 2,
   "metadata": {},
   "outputs": [
    {
     "name": "stdout",
     "output_type": "stream",
     "text": [
      "Shape of training set:  (1460, 81)\n",
      "Missing values before remove NA: \n",
      "Index(['LotFrontage', 'Alley', 'MasVnrType', 'MasVnrArea', 'BsmtQual',\n",
      "       'BsmtCond', 'BsmtExposure', 'BsmtFinType1', 'BsmtFinType2',\n",
      "       'Electrical', 'FireplaceQu', 'GarageType', 'GarageYrBlt',\n",
      "       'GarageFinish', 'GarageQual', 'GarageCond', 'PoolQC', 'Fence',\n",
      "       'MiscFeature'],\n",
      "      dtype='object')\n"
     ]
    }
   ],
   "source": [
    "print(\"Shape of training set: \", df.shape)\n",
    "print(\"Missing values before remove NA: \")\n",
    "print(data_aux.columns[data_aux.isnull().any()])"
   ]
  },
  {
   "cell_type": "markdown",
   "metadata": {},
   "source": [
    "Now, lets replace NA for No where appropriate and search for the missing values again."
   ]
  },
  {
   "cell_type": "code",
   "execution_count": 3,
   "metadata": {},
   "outputs": [
    {
     "name": "stdout",
     "output_type": "stream",
     "text": [
      "Missing values after insert No, i.e., real missing values: \n",
      "Index(['LotFrontage', 'MasVnrType', 'MasVnrArea', 'Electrical', 'GarageYrBlt'], dtype='object')\n"
     ]
    }
   ],
   "source": [
    "#Alley\n",
    "data_aux.Alley.fillna(inplace=True,value='No')\n",
    "#BsmtQual\n",
    "data_aux.BsmtQual.fillna(inplace=True,value='No')\n",
    "#BsmtCond\n",
    "data_aux.BsmtCond.fillna(inplace=True,value='No')\n",
    "#BsmtExposure\n",
    "data_aux.BsmtExposure.fillna(inplace=True,value='No')\n",
    "#BsmtFinType1\n",
    "data_aux.BsmtFinType1.fillna(inplace=True,value='No')\n",
    "#BsmtFinType2\n",
    "data_aux.BsmtFinType2.fillna(inplace=True,value='No')\n",
    "#FireplaceQu\n",
    "data_aux.FireplaceQu.fillna(inplace=True,value='No') \n",
    "#GarageType\n",
    "data_aux.GarageType.fillna(inplace=True,value='No')\n",
    "#GarageFinish\n",
    "data_aux.GarageFinish.fillna(inplace=True,value='No')\n",
    "#GarageQual \n",
    "data_aux.GarageQual.fillna(inplace=True,value='No')    \n",
    "#GarageCond\n",
    "data_aux.GarageCond.fillna(inplace=True,value='No')\n",
    "#PoolQC\n",
    "data_aux.PoolQC.fillna(inplace=True,value='No')    \n",
    "#Fence\n",
    "data_aux.Fence.fillna(inplace=True,value='No')\n",
    "#MiscFeature\n",
    "data_aux.MiscFeature.fillna(inplace=True,value='No')\n",
    "    \n",
    "print(\"Missing values after insert No, i.e., real missing values: \")\n",
    "print(data_aux.columns[data_aux.isnull().any()])\n"
   ]
  },
  {
   "cell_type": "markdown",
   "metadata": {},
   "source": [
    "For treating missing values in numeric features we decided set zero in each missing value, hopefully minimizing any possible bias."
   ]
  },
  {
   "cell_type": "code",
   "execution_count": 4,
   "metadata": {
    "collapsed": true
   },
   "outputs": [],
   "source": [
    "#Numeric fields    \n",
    "data_aux.BsmtFinSF1.fillna(inplace=True,value=0)\n",
    "data_aux.BsmtFinSF2.fillna(inplace=True,value=0)\n",
    "data_aux.BsmtUnfSF.fillna(inplace=True,value=0)\n",
    "data_aux.TotalBsmtSF.fillna(value=0,inplace=True)\n",
    "data_aux.BsmtFullBath.fillna(inplace=True,value=0)\n",
    "data_aux.BsmtHalfBath.fillna(inplace=True,value=0)\n",
    "data_aux.GarageCars.fillna(value=0,inplace=True)\n",
    "data_aux.GarageArea.fillna(value=0,inplace=True)\n",
    "data_aux.LotFrontage.fillna(inplace=True,value=0)\n",
    "data_aux.GarageYrBlt.fillna(inplace=True,value=0)\n",
    "data_aux.MasVnrArea.fillna(inplace=True,value=0)\n",
    "    "
   ]
  },
  {
   "cell_type": "markdown",
   "metadata": {},
   "source": [
    "On the other hand, for missing categorical values we used an interpolation technique, inserting the mode of each column. "
   ]
  },
  {
   "cell_type": "code",
   "execution_count": 5,
   "metadata": {},
   "outputs": [
    {
     "name": "stdout",
     "output_type": "stream",
     "text": [
      "After tackled the missing problem, the status of the data set is: \n",
      "Index([], dtype='object')\n"
     ]
    }
   ],
   "source": [
    "#####Categorial fields\n",
    "#KitchenQual\n",
    "data_aux.KitchenQual = data_aux.KitchenQual.mode()[0]\n",
    "#Functional\n",
    "data_aux.Functional = data_aux.Functional.mode()[0]\n",
    "#Utilities\n",
    "data_aux.Utilities = data_aux.Utilities.mode()[0]  \n",
    "#SaleType\n",
    "data_aux.SaleType  = data_aux.SaleType.mode()[0]\n",
    "#Exterior1st- nao posso remover linhas do teste\n",
    "data_aux.Exterior1st = data_aux.Exterior1st.mode()[0]\n",
    "#Exterior2nd\n",
    "data_aux.Exterior2nd = data_aux.Exterior2nd.mode()[0]       \n",
    "#Electrical - remove the records where the value is NA\n",
    "data_aux.Electrical = df['Electrical'].mode()[0]\n",
    "#MSZoning   - tem NA apenas na base de teste. Como nao posso remover linhas removo a coluna   \n",
    "data_aux.MSZoning = data_aux.MSZoning.mode()[0]\n",
    "#MasVnrType - remove the records where the value is NA \n",
    "data_aux.MasVnrType=df['MasVnrType'].mode()[0]\n",
    "print(\"After tackled the missing problem, the status of the data set is: \")\n",
    "print(data_aux.columns[data_aux.isnull().any()])\n",
    "\n"
   ]
  },
  {
   "cell_type": "markdown",
   "metadata": {},
   "source": [
    "We can see that there are no missing values remaining. \n",
    "\n",
    "\n"
   ]
  },
  {
   "cell_type": "markdown",
   "metadata": {},
   "source": [
    "## Encoding\n",
    "\n",
    "Encoding is important to deal properly with different types of values: nominal, ordinal and numeric. In the house prices data set we could find all of them. As an example of ordinal feature:\n",
    "\n",
    "```\n",
    "ExterQual: Evaluates the quality of the material on the exterior \n",
    "\t\t\n",
    "       Ex\tExcellent\n",
    "       Gd\tGood\n",
    "       TA\tAverage/Typical\n",
    "       Fa\tFair\n",
    "       Po\tPoor\n",
    "```\n",
    "\n",
    "Thus, the next steps were the following:\n",
    "\n",
    "* Map string ordinal fields to corresponding meaningful codes.\n",
    "* Transform numeric nominal features to string.\n",
    "* Apply one-hot encoding. \n"
   ]
  },
  {
   "cell_type": "code",
   "execution_count": 6,
   "metadata": {
    "collapsed": true
   },
   "outputs": [],
   "source": [
    "#Mapping ordinal features\n",
    "\n",
    "#LotShape: General shape of property\n",
    "lotshape_map = {'Reg':'10','IR1':'8','IR2':'6','IR3':'2'}\n",
    "data_aux.LotShape = data_aux.LotShape.map(lotshape_map)\n",
    "data_aux.LotShape = data_aux.LotShape.astype('int64')\n",
    "\n",
    "#Utilities: Type of utilities available       \n",
    "utilities_map = {'AllPub':'10','NoSewr':'8','NoSeWa':'6','ELO':'2'}\n",
    "data_aux.Utilities = data_aux.Utilities.map(utilities_map)\n",
    "data_aux.Utilities = data_aux.Utilities.astype('int64')\n",
    "    \n",
    "#LandSlope: Slope of property\n",
    "landslope_map = {'Gtl':'10','Mod':'8','Sev':'2'}\n",
    "data_aux.LandSlope = data_aux.LandSlope.map(landslope_map)\n",
    "data_aux.LandSlope = data_aux.LandSlope.astype('int64')\n",
    "\n",
    "#ExterQual: Evaluates the quality of the material on the exterior \n",
    "quality_map = {'Ex':'10','Gd':'8','TA':'7','Fa':'5','Po':'2','No':'0'}\n",
    "data_aux.ExterQual = data_aux.ExterQual.map(quality_map)\n",
    "data_aux.ExterQual = data_aux.ExterQual.astype('int64')\n",
    "\n",
    "#ExterCond: Evaluates the present condition of the material on the exterior\n",
    "data_aux.ExterCond = data_aux.ExterCond.map(quality_map)\n",
    "data_aux.ExterCond = data_aux.ExterCond.astype('int64')\n",
    "\n",
    "#BsmtQual: Evaluates the height of the basement\n",
    "data_aux.BsmtQual = data_aux.BsmtQual.map(quality_map)\n",
    "data_aux.BsmtQual = data_aux.BsmtQual.astype('int64')\n",
    "\n",
    "#BsmtCond: Evaluates the general condition of the basement\n",
    "data_aux.BsmtCond = data_aux.BsmtCond.map(quality_map)\n",
    "data_aux.BsmtCond = data_aux.BsmtCond.astype('int64')\n",
    "\n",
    "#HeatingQC: Heating quality and condition\n",
    "data_aux.HeatingQC = data_aux.HeatingQC.map(quality_map)\n",
    "data_aux.HeatingQC = data_aux.HeatingQC.astype('int64')\n",
    "        \n",
    "#KitchenQual: Kitchen quality\n",
    "data_aux.KitchenQual = data_aux.KitchenQual.map(quality_map)\n",
    "data_aux.KitchenQual = data_aux.KitchenQual.astype('int64')\n",
    "\n",
    "#FireplaceQu: Fireplace quality\n",
    "data_aux.FireplaceQu = data_aux.FireplaceQu.map(quality_map)\n",
    "data_aux.FireplaceQu = data_aux.FireplaceQu.astype('int64')\n",
    "\n",
    "#GarageFinish: Interior finish of the garage\n",
    "garage_map = {'Fin':'10', 'RFn':'8', 'Unf':'6', 'No':'0'}    \n",
    "data_aux.GarageFinish = data_aux.GarageFinish.map(garage_map)\n",
    "data_aux.GarageFinish = data_aux.GarageFinish.astype('int64')\n",
    "\n",
    "#GarageQual: Garage quality\n",
    "data_aux.GarageQual = data_aux.GarageQual.map(quality_map)\n",
    "data_aux.GarageQual = data_aux.GarageQual.astype('int64')\n",
    "\n",
    "#GarageCond: Garage condition\n",
    "data_aux.GarageCond = data_aux.GarageCond.map(quality_map)\n",
    "data_aux.GarageCond = data_aux.GarageCond.astype('int64')\n",
    "\n",
    "#PoolQC: Pool quality\n",
    "data_aux.PoolQC = data_aux.PoolQC.map(quality_map)\n",
    "data_aux.PoolQC = data_aux.PoolQC.astype('int64')\n",
    "\n"
   ]
  },
  {
   "cell_type": "code",
   "execution_count": 7,
   "metadata": {
    "collapsed": true
   },
   "outputs": [],
   "source": [
    "#Converting numeric columns to nominal before applying one-hot encoding convertion\n",
    "#After converting to String they will be treated as categorical\n",
    "\n",
    "# MSSubClass as str\n",
    "data_aux['MSSubClass'] = data_aux['MSSubClass'].astype(\"str\")\n",
    "# Year and Month to categorical\n",
    "data_aux['YrSold'] = data_aux['YrSold'].astype(\"str\")\n",
    "data_aux['MoSold'] = data_aux['MoSold'].astype(\"str\")    "
   ]
  },
  {
   "cell_type": "code",
   "execution_count": 8,
   "metadata": {
    "collapsed": true
   },
   "outputs": [],
   "source": [
    "#Converting from str to int for ordinal fields\n",
    "data_aux.OverallCond = data_aux.OverallCond.astype(\"int64\")\n",
    "data_aux.OverallQual = data_aux.OverallQual.astype(\"int64\")\n",
    "data_aux['KitchenAbvGr'] = data_aux['KitchenAbvGr'].astype(\"int64\")"
   ]
  },
  {
   "cell_type": "code",
   "execution_count": 9,
   "metadata": {},
   "outputs": [
    {
     "name": "stdout",
     "output_type": "stream",
     "text": [
      "New  shape after one-hot encoding: (1460, 229)\n"
     ]
    }
   ],
   "source": [
    "#Finally, applying one-hot encoding\n",
    "\n",
    "data_train = pd.get_dummies(data_aux)\n",
    "print(\"New  shape after one-hot encoding:\" , np.shape(data_train))\n",
    "\n",
    "\n"
   ]
  },
  {
   "cell_type": "markdown",
   "metadata": {},
   "source": [
    "## Data analysis\n",
    "\n",
    "In this section we do some exploratory analysis on the numerical features of the data set. Is well known that linear regression methods are sensitive about non-linearity, outliers and colinearity.\n",
    "\n",
    "### Checking linearity of the data\n",
    "\n",
    "To begin with, we test to verify whether the data is linear. The strategy for this in a multiple linear regression problem is to plot the residuals against the predicted values. Figure 1 bellow shows the result. "
   ]
  },
  {
   "cell_type": "code",
   "execution_count": 10,
   "metadata": {},
   "outputs": [
    {
     "data": {
      "image/png": "[encoded data removed]",
      "text/plain": [
       "<matplotlib.figure.Figure at 0x7fbd6fdcdda0>"
      ]
     },
     "metadata": {},
     "output_type": "display_data"
    },
    {
     "name": "stdout",
     "output_type": "stream",
     "text": [
      "Mean square error:  525521621.741\n"
     ]
    }
   ],
   "source": [
    "from sklearn.linear_model import LinearRegression\n",
    "from sklearn import preprocessing\n",
    "import statsmodels.api as sm\n",
    "\n",
    "x_train = data_train.drop('SalePrice',axis=1)\n",
    "y_train = data_train['SalePrice']\n",
    "\n",
    "scaler = preprocessing.StandardScaler()\n",
    "x_train_s = scaler.fit_transform(x_train)   \n",
    "\n",
    "linear1 = LinearRegression()\n",
    "linear1.fit(x_train_s, y_train)\n",
    "pred = linear1.predict(x_train_s)\n",
    "ax = sns.regplot(x=pred,y=y_train-pred,lowess=True,line_kws={\"color\":\"black\"})\n",
    "ax.set_title('Figure 1 - Residual plot for original data.')\n",
    "ax.set_xlabel('Predicted values')\n",
    "ax.set_ylabel('Residuals')\n",
    "plt.show()\n",
    "\n",
    "print(\"Mean square error: \",sum(np.power((y_train-pred),2))/x_train.shape[0])\n",
    "\n",
    "#results = sm.OLS(y_train,x_train_s).fit()\n",
    "#print(results.summary())"
   ]
  },
  {
   "cell_type": "markdown",
   "metadata": {},
   "source": [
    "We can note some evidence of non-linearity and also o fairly high error. Hence, as recommended by the specilaized literature, we applied a non-linear transformation on the dependent variable SalesPrice. The new result is shown in Figure 2.\n"
   ]
  },
  {
   "cell_type": "code",
   "execution_count": 11,
   "metadata": {},
   "outputs": [
    {
     "data": {
      "image/png": "[encoded data removed]",
      "text/plain": [
       "<matplotlib.figure.Figure at 0x7fbd74e278d0>"
      ]
     },
     "metadata": {},
     "output_type": "display_data"
    },
    {
     "name": "stdout",
     "output_type": "stream",
     "text": [
      "Mean square error:  0.0107809473016\n"
     ]
    }
   ],
   "source": [
    "linear2 = LinearRegression()\n",
    "linear2.fit(x_train_s, np.log1p(y_train))\n",
    "pred = linear2.predict(x_train_s)\n",
    "ax = sns.regplot(x=pred,y=np.log1p(y_train)-pred,lowess=True,line_kws={\"color\":\"black\"})\n",
    "ax.set_title('Figure 2 - Residual plot for log-transformed SalePrice.')\n",
    "ax.set_xlabel('Predicted values')\n",
    "ax.set_ylabel('Residuals')\n",
    "plt.show()\n",
    "print(\"Mean square error: \",sum(np.power((np.log1p(y_train)-pred),2))/x_train.shape[0])\n",
    "\n",
    "\n",
    "data_train['SalePrice'] = np.log1p(data_train.SalePrice)"
   ]
  },
  {
   "cell_type": "markdown",
   "metadata": {},
   "source": [
    "As a result of applying a log transformation on the values of SalePrice, we get a much more linear residual plot and a impressive fall in the mean square error.\n",
    "\n",
    "\n",
    "### Engineering new features\n",
    "\n",
    "Analyzing the data we can observe that there is no single feature with the total size of the house. This information is spreaded in others variables, more specificaly in: TotalBsmtSF, 1stFlrSF, 2ndFlrSF and GarageArea. Hence, it seems to be a good idea to create a new feature (TotalSF) with this information. "
   ]
  },
  {
   "cell_type": "code",
   "execution_count": 12,
   "metadata": {
    "collapsed": true
   },
   "outputs": [],
   "source": [
    "data_train['TotalSF'] = data_train['TotalBsmtSF'] + data_train['1stFlrSF'] + data_train['2ndFlrSF'] + data_train['GarageArea']"
   ]
  },
  {
   "cell_type": "markdown",
   "metadata": {},
   "source": [
    "We now have a new data set with no missing values and a well defined set of features. As expected, after the one-hot encoding process we jumped from 81 to 230 features.\n",
    "\n",
    "## Feature selection\n",
    "\n",
    "Feature selection is the task of trying to discover the smallest set of features highly correlated to the dependent variable. It is important for the interpretability of the model but also to lead a better fit and consequentially a better performance as we are avoiding an unnecessarily complex model. We employed an automatic feature selection technique using a tree-based learning algorithm, and then used the tree structure produced to select the prevalent features. "
   ]
  },
  {
   "cell_type": "code",
   "execution_count": 13,
   "metadata": {},
   "outputs": [
    {
     "name": "stdout",
     "output_type": "stream",
     "text": [
      "Ten most important features selected with tree-based selection: \n",
      "\n",
      "+----+-----------+---------------+-------------+----------------+---------------+\n",
      "|    |   TotalSF |   OverallQual |   YearBuilt |   YearRemodAdd |   OverallCond |\n",
      "|----+-----------+---------------+-------------+----------------+---------------|\n",
      "|  0 |  0.546845 |        0.2387 |   0.0196239 |      0.0187828 |     0.0127413 |\n",
      "+----+-----------+---------------+-------------+----------------+---------------+\n",
      "+----+-------------+-------------+--------------+------------+------------+\n",
      "|    |   GrLivArea |   BsmtUnfSF |   BsmtFinSF1 |   1stFlrSF |   2ndFlrSF |\n",
      "|----+-------------+-------------+--------------+------------+------------|\n",
      "|  0 |   0.0107825 |  0.00850611 |   0.00808236 | 0.00692065 | 0.00636897 |\n",
      "+----+-------------+-------------+--------------+------------+------------+\n",
      "\n",
      " New shape for train after tree-based feature selection: (1460, 41)\n",
      "\n",
      " Features selected :\n",
      "Index(['TotalSF', 'OverallQual', 'YearBuilt', 'YearRemodAdd', 'OverallCond',\n",
      "       'LotArea', 'GrLivArea', 'BsmtUnfSF', 'BsmtFinSF1', '1stFlrSF',\n",
      "       '2ndFlrSF', 'BsmtQual', 'CentralAir_Y', 'CentralAir_N', 'Id',\n",
      "       'TotalBsmtSF', 'GarageArea', 'LotFrontage', 'FireplaceQu',\n",
      "       'GarageYrBlt', 'OpenPorchSF', 'ExterQual', 'WoodDeckSF', 'GarageFinish',\n",
      "       'KitchenAbvGr', 'MasVnrArea', 'TotRmsAbvGrd', 'ExterCond',\n",
      "       'SaleCondition_Abnorml', 'SaleCondition_Family', 'Fireplaces',\n",
      "       'HeatingQC', 'MSSubClass_30', 'GarageType_Detchd', 'EnclosedPorch',\n",
      "       'Neighborhood_OldTown', 'Neighborhood_IDOTRR', 'Neighborhood_Crawfor',\n",
      "       'GarageCars', 'MoSold_2', 'BedroomAbvGr'],\n",
      "      dtype='object')\n",
      "\n",
      " End of the process of selecting best features. \n",
      "\n"
     ]
    }
   ],
   "source": [
    "from sklearn.ensemble import ExtraTreesClassifier\n",
    "from sklearn.ensemble import RandomForestRegressor \n",
    "from sklearn.feature_selection import SelectFromModel\n",
    "from tabulate import tabulate\n",
    "\n",
    "#Tree-based feature selection\n",
    "y_train = (data_train['SalePrice'])\n",
    "x_train = (data_train.drop('SalePrice',axis=1))\n",
    "\n",
    "#clf = ExtraTreesRegressor(random_state=0,n_estimators=1400)\n",
    "clf = RandomForestRegressor(random_state=0,n_estimators=1400)\n",
    "clf = clf.fit(x_train,y_train)\n",
    "\n",
    "#Organinzing the features selected for visualization\n",
    "pd.set_option('display.max_columns', None)#to print all the columns of a data frame\n",
    "data = np.zeros((1,x_train.shape[1])) \n",
    "data = pd.DataFrame(data, columns=x_train.columns)\n",
    "data.iloc[0] = clf.feature_importances_\n",
    "data = data.T.sort_values(data.index[0], ascending=False).T\n",
    "print(\"Ten most important features selected with tree-based selection: \\n\")\n",
    "print(tabulate(data.iloc[:,0:5],headers='keys', tablefmt='psql'))\n",
    "print(tabulate(data.iloc[:,6:11],headers='keys', tablefmt='psql'))\n",
    "\n",
    "#Select the features based on the threshold\n",
    "model = SelectFromModel(clf, prefit=True,threshold=1e-3)\n",
    "#Reduce data to the selected features.\n",
    "aux = model.transform(x_train)\n",
    "\n",
    "print(\"\\n New shape for train after tree-based feature selection: {}\".format(aux.shape))\n",
    "data_train_less_features_aux = pd.DataFrame(aux)\n",
    "data_train_less_features_aux.columns = [data.columns[i] for i in range(0,aux.shape[1]) ]\n",
    "print(\"\\n Features selected :\")\n",
    "print(data_train_less_features_aux.columns)\n",
    "data_train_less_features = pd.concat([data_train_less_features_aux,pd.DataFrame(y_train)],axis=1)\n",
    "\n",
    "print(\"\\n End of the process of selecting best features. \\n\")"
   ]
  },
  {
   "cell_type": "markdown",
   "metadata": {},
   "source": [
    "The final process resulted in 41 features. It is important to note that the field we created before **TotalSF** was chosen as one of the most relevant feature. \n",
    "\n",
    "## Feature scaling\n",
    "\n",
    "Our last step in the pre-processing phase would be standardize the data. This will be usefull for all the methods experimented. As we are using cross-validation, the scaling has to be done independently for each training and testing set being created. Hence, it will be executed when appropriate. "
   ]
  },
  {
   "cell_type": "markdown",
   "metadata": {},
   "source": [
    "# Regression Models\n",
    "\n",
    "In this section we present a serie of evaluations of different algorithms packed in scikit-learn. The aim is to collect performance metric in order to compare the options. \n"
   ]
  },
  {
   "cell_type": "code",
   "execution_count": 14,
   "metadata": {
    "collapsed": true
   },
   "outputs": [],
   "source": [
    "#Some usefull packages\n",
    "from sklearn.model_selection import KFold\n",
    "from sklearn.model_selection import cross_val_score\n",
    "from sklearn.model_selection import cross_val_predict\n",
    "from sklearn   import metrics\n",
    "from sklearn.model_selection import train_test_split\n",
    "\n",
    "\n",
    "#Python dictionary to collect the results\n",
    "RMSE_results = {\n",
    "    \n",
    "    'LinearRegression':0.0,\n",
    "    'Lasso':0.0,\n",
    "    'Ridge':0.0,\n",
    "    'ElasticNet':0.0,\n",
    "    'SVM':0.0,\n",
    "    'NN':0.0,    \n",
    "    'RF':0.0,\n",
    "    'DeepNN':0.0\n",
    "}\n",
    "\n"
   ]
  },
  {
   "cell_type": "markdown",
   "metadata": {},
   "source": [
    "## Linear Regression\n",
    "\n",
    "In this section we experiment a set of methods intended for regression in which the target value is expected to be a linear combination of the input variables. \n",
    "\n",
    "### Ordinary Least Squares\n",
    "\n",
    "Least Squares is a well known mathematical solution for linear regression. It works trying to fit coefficients to minimize the residual sum of squares between the true values and the responses predicted by the linear approximation. It solves a problem of the form:   $\\underset{w}{min\\,} {|| X w - y||_2}^2$ \n",
    "and can be solved analyticaly by the equation\n",
    "\n",
    "$$\\hat\\beta=(X^TX)^{-1}X^Ty$$\n",
    "\n",
    "where X is a matrix of sample values, y is the actual response and $\\hat\\beta$ the estimated weights w. "
   ]
  },
  {
   "cell_type": "code",
   "execution_count": 15,
   "metadata": {},
   "outputs": [
    {
     "name": "stdout",
     "output_type": "stream",
     "text": [
      "Linear Regression \n",
      "\n",
      "\n",
      " Average RMSE: 0.15868285773519408\n"
     ]
    }
   ],
   "source": [
    "from sklearn.linear_model import LinearRegression, SGDRegressor, RidgeCV, Lasso, LassoCV, ElasticNetCV\n",
    "from sklearn import preprocessing\n",
    "\n",
    "\n",
    "x_train = data_train_less_features.drop('SalePrice',axis=1).values\n",
    "y_train = data_train_less_features['SalePrice'].values\n",
    "\n",
    "\n",
    "\n",
    "print(\"Linear Regression \\n\")\n",
    "\n",
    "#Cross validation\n",
    "classifierLinearRegression = LinearRegression()\n",
    "kf = KFold(5, random_state=7, shuffle=True)    \n",
    "cv_y = []\n",
    "cv_pred = []\n",
    "fold = 0\n",
    "pred = []\n",
    "\n",
    "for training, test in kf.split(x_train):\n",
    "    fold+=1    \n",
    "    pred = []    \n",
    "    \n",
    "    scaler = preprocessing.StandardScaler()\n",
    "    x_train_fold = scaler.fit_transform(x_train[training,:])\n",
    "    x_test_fold = scaler.transform(x_train[test])\n",
    "\n",
    "    y_train_fold = y_train[training]    \n",
    "    y_test_fold = y_train[test]\n",
    "    \n",
    "    classifierLinearRegression = classifierLinearRegression.fit(x_train_fold, y_train_fold)\n",
    "    pred = classifierLinearRegression.predict(x_test_fold)\n",
    "    cv_y.append(y_test_fold)\n",
    "    cv_pred.append(pred)        \n",
    "\n",
    "    \n",
    "#Calculating the error.\n",
    "cv_y = np.concatenate(cv_y)\n",
    "cv_pred = np.concatenate(cv_pred)\n",
    "score = np.sqrt(metrics.mean_squared_error(cv_y,cv_pred))\n",
    "print(\"\\n Average RMSE: {}\".format(score))    \n",
    "RMSE_results['LinearRegression'] = score"
   ]
  },
  {
   "cell_type": "markdown",
   "metadata": {},
   "source": [
    "## Ridge\n",
    "\n",
    "Ridge regression addresses some of the problems of Ordinary Least Squares by imposing a penalty on the size of coefficients. The new equation of a penalized residual sum of square is $\\underset{w}{min\\,} {{|| X w - y||_2}^2 + \\alpha {||w||_2}^2}$.\n",
    "\n",
    "Here, $\\alpha \\geq 0$ is called the regularization parameter (L2) and controls the amount of shrinkage. Higher the values of alpha, bigger is the penalty and therefore the magnitude of coefficients are reduced. It is worth note that we employed RidgeCV which does an implicit leave-one-out cross-validation to choose the best alpha. "
   ]
  },
  {
   "cell_type": "code",
   "execution_count": 16,
   "metadata": {},
   "outputs": [
    {
     "name": "stdout",
     "output_type": "stream",
     "text": [
      "Ridge \n",
      "\n",
      "\n",
      "\n",
      " Average RMSE: 0.15828549987190688\n"
     ]
    }
   ],
   "source": [
    "print(\"Ridge \\n\\n\")\n",
    "\n",
    "classifier = RidgeCV()\n",
    "\n",
    "kf = KFold(5, random_state=7, shuffle=True)    \n",
    "cv_y = []\n",
    "cv_pred = []\n",
    "fold = 0\n",
    "pred = []\n",
    "\n",
    "for training, test in kf.split(x_train):\n",
    "    fold+=1\n",
    "    pred = []\n",
    "    \n",
    "    scaler = preprocessing.StandardScaler()\n",
    "    x_train_fold = scaler.fit_transform(x_train[training])\n",
    "    x_test_fold = scaler.transform(x_train[test])\n",
    "\n",
    "    y_train_fold = y_train[training]    \n",
    "    y_test_fold = y_train[test]\n",
    "\n",
    "    \n",
    "    classifier.fit(x_train_fold, y_train_fold)\n",
    "    pred = classifier.predict(x_test_fold)\n",
    "    cv_y.append(y_test_fold)\n",
    "    cv_pred.append(pred)        \n",
    "\n",
    "\n",
    "cv_y = np.concatenate(cv_y)\n",
    "cv_pred = np.concatenate(cv_pred)\n",
    "score = np.sqrt(metrics.mean_squared_error(cv_y,cv_pred))\n",
    "print(\"\\n Average RMSE: {}\".format(score))    \n",
    "RMSE_results['Ridge'] = score"
   ]
  },
  {
   "cell_type": "markdown",
   "metadata": {},
   "source": [
    "## Lasso\n",
    "\n",
    "Mathematics behind lasso regression is quiet similar to that of ridge only difference being instead of adding squares of theta, we will add absolute value of w: $\\underset{w}{min\\,} { \\frac{1}{2n_{samples}} ||X w - y||_2 ^ 2 + \\alpha ||w||_1}$. Lasso is a linear model that estimates sparse coefficients, i.e., it reduces the number of variables upon which the given solution is dependent. It does a kind of feature selection and thus lead to a less complex final model. For instance, when there are correlated features it will choose one and set the coefficient of the other to zero. The regularization parameter alpha (L1) controls the degree of sparsity of the coefficients estimated and we employed once more the version of the algorithm that automatically chooses the best value.  \n"
   ]
  },
  {
   "cell_type": "code",
   "execution_count": 17,
   "metadata": {},
   "outputs": [
    {
     "name": "stdout",
     "output_type": "stream",
     "text": [
      "Lasso \n",
      "\n",
      "\n",
      "\n",
      " Average RMSE: 0.15858019385700348\n"
     ]
    }
   ],
   "source": [
    "print(\"Lasso \\n\\n\")\n",
    "\n",
    "classifier = LassoCV()\n",
    "\n",
    "kf = KFold(5, random_state=7, shuffle=True)    \n",
    "cv_y = []\n",
    "cv_pred = []\n",
    "fold = 0\n",
    "pred = []\n",
    "\n",
    "for training, test in kf.split(x_train):\n",
    "    fold+=1\n",
    "    pred = []\n",
    "    \n",
    "    scaler = preprocessing.StandardScaler()\n",
    "    x_train_fold = scaler.fit_transform(x_train[training])\n",
    "    x_test_fold = scaler.transform(x_train[test])\n",
    "\n",
    "    y_train_fold = y_train[training]    \n",
    "    y_test_fold = y_train[test]\n",
    "        \n",
    "    classifier.fit(x_train_fold, y_train_fold)\n",
    "    pred = classifier.predict(x_test_fold)\n",
    "    cv_y.append(y_test_fold)\n",
    "    cv_pred.append(pred)        \n",
    "\n",
    "\n",
    "cv_y = np.concatenate(cv_y)\n",
    "cv_pred = np.concatenate(cv_pred)\n",
    "score = np.sqrt(metrics.mean_squared_error(cv_y,cv_pred))\n",
    "print(\"\\n Average RMSE: {}\".format(score))    \n",
    "RMSE_results['Lasso'] = score"
   ]
  },
  {
   "cell_type": "markdown",
   "metadata": {},
   "source": [
    "## Elastic Net\n",
    "\n",
    "Is a hybrid method that trains with L1 and L2 as regularizers. This combination allows for learning a sparse model where few of the weights are non-zero like Lasso, while still maintaining the regularization properties of Ridge. It is useful when there are multiple features which are correlated with one another. Lasso is likely to pick one of these at random, while Elastic Net is likely to pick both. The objective function to minimize is in this case\n",
    "\n",
    "$$\\underset{w}{min\\,} { \\frac{1}{2n_{samples}} ||X w - y||_2 ^ 2 + \\alpha \\rho ||w||_1 + \\frac{\\alpha(1-\\rho)}{2} ||w||_2 ^ 2}$$\n",
    "\n"
   ]
  },
  {
   "cell_type": "code",
   "execution_count": 18,
   "metadata": {},
   "outputs": [
    {
     "name": "stdout",
     "output_type": "stream",
     "text": [
      "Elastic Net \n",
      "\n",
      "\n",
      "\n",
      " Average RMSE: 0.15847870408022574\n"
     ]
    }
   ],
   "source": [
    "print(\"Elastic Net \\n\\n\")\n",
    "\n",
    "classifier = ElasticNetCV()\n",
    "\n",
    "kf = KFold(5, random_state=7, shuffle=True)    \n",
    "cv_y = []\n",
    "cv_pred = []\n",
    "fold = 0\n",
    "pred = []\n",
    "\n",
    "for training, test in kf.split(x_train):\n",
    "    fold+=1\n",
    "    pred = []   \n",
    "        \n",
    "    scaler = preprocessing.StandardScaler()\n",
    "    x_train_fold = scaler.fit_transform(x_train[training])\n",
    "    x_test_fold = scaler.transform(x_train[test])\n",
    "\n",
    "    y_train_fold = y_train[training]    \n",
    "    y_test_fold = y_train[test]\n",
    "    \n",
    "    classifier.fit(x_train_fold, y_train_fold)\n",
    "    pred = classifier.predict(x_test_fold)\n",
    "    cv_y.append(y_test_fold)\n",
    "    cv_pred.append(pred)        \n",
    "\n",
    "cv_y = np.concatenate(cv_y)\n",
    "cv_pred = np.concatenate(cv_pred)\n",
    "score = np.sqrt(metrics.mean_squared_error(cv_y,cv_pred))\n",
    "print(\"\\n Average RMSE: {}\".format(score))    \n",
    "RMSE_results['ElasticNet'] = score"
   ]
  },
  {
   "cell_type": "markdown",
   "metadata": {},
   "source": [
    "Lets compare the results so far. We can observe that all methods had fairly similar performance. Lasso and Elastic Net have slight lower RMSE mybe because both employs L1 regularization which seems to be a good choice for this problem. "
   ]
  },
  {
   "cell_type": "code",
   "execution_count": 19,
   "metadata": {},
   "outputs": [
    {
     "data": {
      "text/plain": [
       "Text(0.5,0,'Models')"
      ]
     },
     "execution_count": 19,
     "metadata": {},
     "output_type": "execute_result"
    },
    {
     "data": {
      "image/png": "[encoded data removed]",
      "text/plain": [
       "<matplotlib.figure.Figure at 0x7fbd627d7fd0>"
      ]
     },
     "metadata": {},
     "output_type": "display_data"
    }
   ],
   "source": [
    "fig_1 = pd.DataFrame(RMSE_results, index=(1,) )\n",
    "ax = fig_1.plot(kind='bar',figsize=(10,5), title=\"Comparison of RMSE among models\")\n",
    "ax.set_ylabel('Root Mean Square Error')\n",
    "ax.set_xlabel('Models')"
   ]
  },
  {
   "cell_type": "markdown",
   "metadata": {},
   "source": [
    "## Support Vector Machine\n",
    "\n",
    "SVM is a large margin classifier. The rationale behind having decision boundaries with large margins is that they tend to have a lower generalization error whereas models with small margins are more\n",
    "prone to overfitting. \n",
    "\n",
    "SVM did not work well in this problem. Fisrt, it broke due to the log transformation applied on SalePrice. Next we did the oposit transformation and applied exp function in SalePrice. Then we could execute the algorithm but with extremely poor results (different kernels and C values). Thus, we are not counting its result for comparison. "
   ]
  },
  {
   "cell_type": "code",
   "execution_count": 20,
   "metadata": {},
   "outputs": [
    {
     "name": "stdout",
     "output_type": "stream",
     "text": [
      "SVM\n",
      "\n",
      " Average RMSE: 0.15328470868460783\n"
     ]
    }
   ],
   "source": [
    "from sklearn.svm import SVR\n",
    "print(\"SVM\")\n",
    "\n",
    "classifierSVR = SVR(kernel='linear', C=1, gamma='auto') \n",
    "\n",
    "kf = KFold(5, random_state=7, shuffle=True)    \n",
    "cv_y = []\n",
    "cv_pred = []\n",
    "fold = 0\n",
    "\n",
    "for training, test in kf.split(x_train):\n",
    "    fold+=1\n",
    "    pred = []\n",
    "        \n",
    "    scaler = preprocessing.StandardScaler()\n",
    "    x_train_fold = scaler.fit_transform(x_train[training])\n",
    "    x_test_fold = scaler.transform(x_train[test])\n",
    "\n",
    "    y_train_fold = (y_train[training])    \n",
    "    y_test_fold = (y_train[test])\n",
    "    \n",
    "    classifierSVR = classifierSVR.fit(x_train_fold, y_train_fold)\n",
    "    pred = classifierSVR.predict(x_test_fold)\n",
    "    cv_y.append(y_test_fold)\n",
    "    cv_pred.append(pred)        \n",
    "\n",
    "\n",
    "cv_y = np.concatenate(cv_y)\n",
    "cv_pred = np.concatenate(cv_pred)\n",
    "score = np.sqrt(metrics.mean_squared_error(cv_y,cv_pred))\n",
    "print(\"\\n Average RMSE: {}\".format(score))    \n",
    "\n",
    "RMSE_results['SVM'] = score"
   ]
  },
  {
   "cell_type": "markdown",
   "metadata": {},
   "source": [
    "## Multilayer Perceptron"
   ]
  },
  {
   "cell_type": "code",
   "execution_count": 21,
   "metadata": {},
   "outputs": [
    {
     "name": "stdout",
     "output_type": "stream",
     "text": [
      "\n",
      "Neural Network\n",
      "\n",
      " Average RMSE: 0.7193660535434027\n"
     ]
    }
   ],
   "source": [
    "from sklearn.neural_network import MLPRegressor\n",
    "\n",
    "print(\"\\nNeural Network\")\n",
    "\n",
    "\n",
    "classifier = MLPRegressor(alpha=1e-5,\n",
    "                          #hidden_layer_sizes= (200,100, 80, 80, 50, 50, 80,80),\n",
    "                          #hidden_layer_sizes=(80,50,50,20),\n",
    "                          hidden_layer_sizes=(80,50,20),                          \n",
    "                          random_state=1)\n",
    "kf = KFold(5, random_state=7, shuffle=True)    \n",
    "cv_y = []\n",
    "cv_pred = []\n",
    "fold = 0\n",
    "\n",
    "for training, test in kf.split(x_train):\n",
    "    fold+=1    \n",
    "    pred = []\n",
    "    \n",
    "    scaler = preprocessing.StandardScaler()\n",
    "    x_train_fold = scaler.fit_transform(x_train[training])\n",
    "    x_test_fold = scaler.transform(x_train[test])\n",
    "\n",
    "    y_train_fold = y_train[training]    \n",
    "    y_test_fold = y_train[test]\n",
    "    \n",
    "    classifier.fit(x_train_fold, y_train_fold)\n",
    "    pred = classifier.predict(x_test_fold)\n",
    "    cv_y.append(y_test_fold)\n",
    "    cv_pred.append(pred)        \n",
    "\n",
    "   \n",
    "cv_y = np.concatenate(cv_y)\n",
    "cv_pred = np.concatenate(cv_pred)\n",
    "score = np.sqrt(metrics.mean_squared_error(cv_y,cv_pred))\n",
    "print(\"\\n Average RMSE: {}\".format(score))    \n",
    "\n",
    "RMSE_results['NN'] = score"
   ]
  },
  {
   "cell_type": "markdown",
   "metadata": {},
   "source": [
    "## Random Forest\n",
    "\n",
    "Random Forests is one of the most versatile and precise classifier. It does not need the data being scaled and can deal with any number of features. In order to test the random forest algorithm a little further than the others, we decided to train it using different train sets. First, with a data set containing all the features and no scaling. Second, in the reduced train set with scaled eatures. \n",
    "\n",
    "As we can see in the results bellow, it did well in both cases. This test was also interesting to validate our set of selected features. Seems they are really good options once the performance using the the full set is not significatively better than using the restricted set.  "
   ]
  },
  {
   "cell_type": "code",
   "execution_count": 22,
   "metadata": {},
   "outputs": [
    {
     "name": "stdout",
     "output_type": "stream",
     "text": [
      "\n",
      " Random Forests \n",
      "\n",
      " Full Features \n",
      "\n",
      " Average RMSE using all features: 0.1456805553231723\n",
      "\n",
      " Less features \n",
      "\n",
      " Average RMSE less features: 0.14598193282665844\n"
     ]
    }
   ],
   "source": [
    "##Random Forests\n",
    "from sklearn.ensemble import RandomForestRegressor\n",
    "\n",
    "print(\"\\n Random Forests \")\n",
    "print(\"\\n Full Features \")\n",
    "\n",
    "y_train_rf = data_train['SalePrice'].values\n",
    "x_train_rf = data_train.drop('SalePrice',axis=1).values\n",
    "\n",
    "classifierAllFeatures = RandomForestRegressor(n_estimators=60,oob_score=True)\n",
    "\n",
    "kf = KFold(5, random_state=7, shuffle=True)    \n",
    "cv_y = []\n",
    "cv_pred = []\n",
    "fold = 0\n",
    "\n",
    "for training, test in kf.split(x_train_rf):\n",
    "    fold+=1\n",
    "    pred = []\n",
    "        \n",
    "    x_train_fold = x_train_rf[training]\n",
    "    y_train_fold = y_train_rf[training]\n",
    "    x_test_fold = x_train_rf[test]\n",
    "    y_test_fold = y_train_rf[test]\n",
    "    \n",
    "    classifierAllFeatures.fit(x_train_fold, y_train_fold)\n",
    "    pred = classifierAllFeatures.predict(x_test_fold)\n",
    "    cv_y.append(y_test_fold)\n",
    "    cv_pred.append(pred)        \n",
    "\n",
    "\n",
    "cv_y = np.concatenate(cv_y)\n",
    "cv_pred = np.concatenate(cv_pred)\n",
    "score = np.sqrt(metrics.mean_squared_error(cv_y,cv_pred))\n",
    "print(\"\\n Average RMSE using all features: {}\".format(score))    \n",
    "\n",
    "\n",
    "###########Less features\n",
    "print(\"\\n Less features \")\n",
    "\n",
    "kf = KFold(n_splits=5, random_state=7 , shuffle=True)    \n",
    "cv_y = []\n",
    "cv_pred = []\n",
    "fold = 0\n",
    "pred = []\n",
    "\n",
    "classifierRF_lessFeatures = RandomForestRegressor(n_estimators=60,oob_score=True)\n",
    "\n",
    "for training, test in kf.split(x_train):\n",
    "    fold+=1\n",
    "    pred = []\n",
    "    \n",
    "    scaler = preprocessing.StandardScaler()\n",
    "    x_train_fold = scaler.fit_transform(x_train[training])\n",
    "    x_test_fold = scaler.transform(x_train[test])\n",
    "\n",
    "    y_train_fold = y_train[training]    \n",
    "    y_test_fold = y_train[test]\n",
    "    \n",
    "    classifierRF_lessFeatures.fit(x_train_fold, y_train_fold)\n",
    "    pred = classifierRF_lessFeatures.predict(x_test_fold)\n",
    "    cv_y.append(y_test_fold)\n",
    "    cv_pred.append(pred)        \n",
    "    \n",
    "cv_y = np.concatenate(cv_y)\n",
    "cv_pred = np.concatenate(cv_pred)\n",
    "score = np.sqrt(metrics.mean_squared_error(cv_y,cv_pred))\n",
    "print(\"\\n Average RMSE less features: {}\".format(score))    \n",
    "\n",
    "RMSE_results['RF'] = score"
   ]
  },
  {
   "cell_type": "markdown",
   "metadata": {},
   "source": [
    "## Deep Neural Network"
   ]
  },
  {
   "cell_type": "code",
   "execution_count": 23,
   "metadata": {},
   "outputs": [
    {
     "name": "stdout",
     "output_type": "stream",
     "text": [
      " \n",
      " TensorFlow \n",
      "\n",
      " Average RMSE: 0.2016815992315465\n"
     ]
    }
   ],
   "source": [
    "import tensorflow as tf\n",
    "import tensorflow.contrib.learn as learn\n",
    "import shutil \n",
    "import os\n",
    "\n",
    "print(\" \\n TensorFlow \")\n",
    "\n",
    "sess = tf.Session(config=tf.ConfigProto(log_device_placement=True))\n",
    "\n",
    "# Set the desired TensorFlow output level for this example\n",
    "tf.logging.set_verbosity(tf.logging.ERROR)\n",
    "\n",
    "\n",
    "feature_columns = [tf.contrib.layers.real_valued_column(\"\", dimension=x_train.shape[1])]\n",
    "classifierDNN = learn.DNNRegressor(\n",
    "                                   hidden_units=[200,100, 80, 80, 50, 50, 80,80], \n",
    "                                   #hidden_units=[ 80, 80, 20], \n",
    "                                   feature_columns=feature_columns,                                   \n",
    "                                  )\n",
    "\n",
    "\n",
    "kf = KFold(5, random_state=7, shuffle=True)    \n",
    "cv_y = []\n",
    "cv_pred = []\n",
    "fold = 0\n",
    "\n",
    "for training, test in kf.split(x_train):\n",
    "    fold+=1\n",
    "    pred = []\n",
    "    \n",
    "     \n",
    "    scaler = preprocessing.StandardScaler()\n",
    "    x_train_fold = scaler.fit_transform(x_train[training])\n",
    "    x_test_fold = scaler.transform(x_train[test])\n",
    "\n",
    "    y_train_fold = y_train[training]    \n",
    "    y_test_fold = y_train[test]\n",
    "    \n",
    "    # Early stopping\n",
    "    validation_monitor = tf.contrib.learn.monitors.ValidationMonitor(\n",
    "    x_test_fold,\n",
    "    y_test_fold,\n",
    "    every_n_steps=500,\n",
    "    #metrics=validation_metrics,\n",
    "    early_stopping_metric=\"loss\",\n",
    "    early_stopping_metric_minimize=True,\n",
    "    early_stopping_rounds=400)\n",
    "        \n",
    "    classifierDNN.fit(x_train_fold, y_train_fold, monitors=[validation_monitor] ,steps=1000)\n",
    "    pred = (list(classifierDNN.predict(x_test_fold, as_iterable=True)))\n",
    "    \n",
    "    cv_y.append(y_test_fold)\n",
    "    cv_pred.append(pred)        \n",
    "\n",
    "\n",
    "cv_y = np.concatenate(cv_y)\n",
    "cv_pred = np.concatenate(cv_pred)\n",
    "score = np.sqrt(metrics.mean_squared_error(cv_y,cv_pred))\n",
    "print(\"\\n Average RMSE: {}\".format(score))    \n",
    "\n",
    "RMSE_results['DeepNN'] = score"
   ]
  },
  {
   "cell_type": "markdown",
   "metadata": {},
   "source": [
    "Done! We have tested eight different classifiers in the house prices prediction problem. Lets now compare the performance of each one. "
   ]
  },
  {
   "cell_type": "code",
   "execution_count": 24,
   "metadata": {},
   "outputs": [
    {
     "data": {
      "text/plain": [
       "Text(0.5,0,'Models')"
      ]
     },
     "execution_count": 24,
     "metadata": {},
     "output_type": "execute_result"
    },
    {
     "data": {
      "image/png": "[encoded data removed]",
      "text/plain": [
       "<matplotlib.figure.Figure at 0x7fbcf8f5ba90>"
      ]
     },
     "metadata": {},
     "output_type": "display_data"
    }
   ],
   "source": [
    "fig_1 = pd.DataFrame(RMSE_results, index=(1,) )\n",
    "ax = fig_1.plot(kind='bar',figsize=(10,5), title=\"Comparison of RMSE among models\")\n",
    "ax.set_ylabel('Root Mean Square Error')\n",
    "ax.set_xlabel('Models')\n"
   ]
  },
  {
   "cell_type": "markdown",
   "metadata": {},
   "source": [
    "# Discussion"
   ]
  }
 ],
 "metadata": {
  "anaconda-cloud": {},
  "kernelspec": {
   "display_name": "Python 3",
   "language": "python",
   "name": "python3"
  },
  "language_info": {
   "codemirror_mode": {
    "name": "ipython",
    "version": 3
   },
   "file_extension": ".py",
   "mimetype": "text/x-python",
   "name": "python",
   "nbconvert_exporter": "python",
   "pygments_lexer": "ipython3",
   "version": "3.6.3"
  }
 },
 "nbformat": 4,
 "nbformat_minor": 1
}
