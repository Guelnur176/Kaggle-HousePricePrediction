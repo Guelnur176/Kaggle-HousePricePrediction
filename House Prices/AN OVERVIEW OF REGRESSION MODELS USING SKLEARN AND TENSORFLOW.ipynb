{
 "cells": [
  {
   "cell_type": "markdown",
   "metadata": {
    "collapsed": true
   },
   "source": [
    "AN OVERVIEW OF REGRESSION MODELS USING SKLEARN AND TENSORFLOW\n",
    "\n",
    "Christian Masdeval - November 2017\n",
    "\n",
    "\n",
    "In this kernel I will try to bring to you a resume of the analysis I have made in the House Prices dataset. My objective was to explore as many different predective models as possible trying to find the best one. It is divided in the following way:\n",
    "\n",
    "    Understanding and cleaning the data\n",
    "    Linear Regression Models\n",
    "     Linear Regression\n",
    "     Stochastic Gradient Descent\n",
    "     Ridge\n",
    "     Lasso\n",
    "     Elastic Net\n",
    "    Suport Vector Machine\n",
    "    Neural Network\n",
    "    Random Forests\n",
    "    Gradient Boosting\n",
    "    Deep Learning with TensorFlow\n",
    "    Ensemble Technics\n",
    "\n",
    "1 . Understanding and cleaning the data\n",
    "\n",
    "First thing first. As mentioned by several authors, much of the work in make a good model is related to a good feature engineering process. It take a while until we start gain some significant intuition about what is going on but some steps are always present. I will describe what I did trying to stabilize the data and how I got to this decision. Anyway, I think the goals of this step that are always present in any dataset and should guide us are:\n",
    "\n",
    "    Deal with missing values\n",
    "    Select the best features\n",
    "\n",
    "One more thing. As our objective is to analyze the test.csv file, create the submission file and upload it to kaggle, one premisse I have used was not to remove any single line from the test set. We must submit a result file with exactly the number of lines of the original test file.\n",
    "\n",
    "What is the data\n",
    "\n",
    "There are excellent kernels showing how to get a glimpse of the data (like Comprehensive data exploration with Python). Most of them have used programming languages like R ore Python to extract useful visualizations. I would also suggest to use the Weka tool to do that. I could get excellent insights about the data via Weka.\n",
    "\n",
    "We should also look the data dictonary when available. In our case it exists and bring important informations:\n",
    "\n",
    "    *The categorical and numerial fields\n",
    "    *The description of each one\n",
    "    *That there is a category called NA to denote the absence of some characteristic (and Python also use NA)\n",
    "    *That there are some categorical fields that have only numerical values (and Python will interpret them as numbers)\n",
    "\n",
    "\n",
    "Categorical field with numerical values\n",
    "\n",
    "    OverallQual: Rates the overall material and finish of the house\n",
    "\n",
    "       10\tVery Excellent\n",
    "       9\tExcellent\n",
    "       8\tVery Good\n",
    "       7\tGood\n",
    "       6\tAbove Average\n",
    "       5\tAverage\n",
    "       4\tBelow Average\n",
    "       3\tFair\n",
    "       2\tPoor\n",
    "       1\tVery Poor    \n",
    "\n",
    "\n",
    "Value NA being used as a category\n",
    "\n",
    "    Alley: Type of alley access to property\n",
    "\n",
    "       Grvl\tGravel\n",
    "       Pave\tPaved\n",
    "       NA \tNo alley access\n",
    "\n",
    "Missing values\n",
    "\n",
    "Maybe the most common problem in real datasets is the presence of null values and most of the implementations of the regression algorithms break in the presence of them. Sometimes, instead of a blank in the position, a wildcard is used like ? or NA. However, as we see above, in the House Prices example the value NA is being used to denote other kind of information, what is a problem. So, our first attempt will be to exchange these NA values to the value 'No', denoting the absence of some characteristic.\n",
    "\n",
    "Fisrt, lets see what are the missing values"
   ]
  },
  {
   "cell_type": "code",
   "execution_count": 106,
   "metadata": {
    "collapsed": true
   },
   "outputs": [],
   "source": [
    "from sklearn import preprocessing\n",
    "import matplotlib.pyplot as plt\n",
    "import numpy as np\n",
    "import pandas as pd\n",
    "from sklearn.feature_extraction import DictVectorizer\n",
    "import seaborn as sns\n",
    "import warnings\n",
    "from scipy.stats import norm\n",
    "from scipy import stats\n",
    "warnings.filterwarnings('ignore')\n",
    "\n",
    "np.set_printoptions(threshold=np.nan) #to print all the elements of a matrix\n",
    "pd.set_option('display.max_rows', 2000)#to print all the elements of a data frame\n",
    "\n",
    "%matplotlib inline\n",
    "    \n",
    "df = pd.read_csv(\"train.csv\",na_values=['?',''],delimiter=',',delim_whitespace=False)\n",
    "df_test = pd.read_csv(\"test.csv\",na_values=['?',''],delimiter=',',delim_whitespace=False)\n"
   ]
  },
  {
   "cell_type": "code",
   "execution_count": null,
   "metadata": {
    "collapsed": true
   },
   "outputs": [],
   "source": []
  },
  {
   "cell_type": "code",
   "execution_count": 107,
   "metadata": {
    "collapsed": false
   },
   "outputs": [
    {
     "name": "stdout",
     "output_type": "stream",
     "text": [
      "Shape of training set:  (1460, 81)\n",
      "Shape of test set:  (1459, 80)\n",
      "Missing values before remove NA:  Index(['Alley', 'BsmtCond', 'BsmtExposure', 'BsmtFinSF1', 'BsmtFinSF2',\n",
      "       'BsmtFinType1', 'BsmtFinType2', 'BsmtFullBath', 'BsmtHalfBath',\n",
      "       'BsmtQual', 'BsmtUnfSF', 'Electrical', 'Exterior1st', 'Exterior2nd',\n",
      "       'Fence', 'FireplaceQu', 'Functional', 'GarageArea', 'GarageCars',\n",
      "       'GarageCond', 'GarageFinish', 'GarageQual', 'GarageType', 'GarageYrBlt',\n",
      "       'KitchenQual', 'LotFrontage', 'MSZoning', 'MasVnrArea', 'MasVnrType',\n",
      "       'MiscFeature', 'PoolQC', 'SalePrice', 'SaleType', 'TotalBsmtSF',\n",
      "       'Utilities'],\n",
      "      dtype='object')\n"
     ]
    }
   ],
   "source": [
    "print(\"Shape of training set: \", df.shape)\n",
    "print(\"Shape of test set: \", df_test.shape)\n",
    "data_aux = df.append(df_test) #merging the two datasets to facilitate the cleaning\n",
    "print(\"Missing values before remove NA: \" , data_aux.columns[data_aux.isnull().any()])"
   ]
  },
  {
   "cell_type": "markdown",
   "metadata": {},
   "source": [
    "Now, lets replace NA for No where appropriate and search for the missing values again."
   ]
  },
  {
   "cell_type": "code",
   "execution_count": 108,
   "metadata": {
    "collapsed": false
   },
   "outputs": [
    {
     "name": "stdout",
     "output_type": "stream",
     "text": [
      "Missing values after insert No, i.e., real missing values:  Index(['BsmtFinSF1', 'BsmtFinSF2', 'BsmtFullBath', 'BsmtHalfBath', 'BsmtUnfSF',\n",
      "       'Electrical', 'Exterior1st', 'Exterior2nd', 'Functional', 'GarageArea',\n",
      "       'GarageCars', 'GarageYrBlt', 'KitchenQual', 'LotFrontage', 'MSZoning',\n",
      "       'MasVnrArea', 'MasVnrType', 'SalePrice', 'SaleType', 'TotalBsmtSF',\n",
      "       'Utilities'],\n",
      "      dtype='object')\n"
     ]
    }
   ],
   "source": [
    "#Alley\n",
    "data_aux.Alley.fillna(inplace=True,value='No')\n",
    "\n",
    "#BsmtQual\n",
    "data_aux.BsmtQual.fillna(inplace=True,value='No')\n",
    "\n",
    "#BsmtCond\n",
    "data_aux.BsmtCond.fillna(inplace=True,value='No')\n",
    "\n",
    "#BsmtExposure\n",
    "data_aux.BsmtExposure.fillna(inplace=True,value='No')\n",
    "\n",
    "#BsmtFinType1\n",
    "data_aux.BsmtFinType1.fillna(inplace=True,value='No')\n",
    "\n",
    "#BsmtFinType2\n",
    "data_aux.BsmtFinType2.fillna(inplace=True,value='No')\n",
    "\n",
    "#FireplaceQu\n",
    "data_aux.FireplaceQu.fillna(inplace=True,value='No')    \n",
    "\n",
    "#GarageType\n",
    "data_aux.GarageType.fillna(inplace=True,value='No')\n",
    "\n",
    "#GarageFinish\n",
    "data_aux.GarageFinish.fillna(inplace=True,value='No')\n",
    "\n",
    "#GarageQual \n",
    "data_aux.GarageQual.fillna(inplace=True,value='No')\n",
    "    \n",
    "#GarageCond\n",
    "data_aux.GarageCond.fillna(inplace=True,value='No')\n",
    "\n",
    "#PoolQC\n",
    "data_aux.PoolQC.fillna(inplace=True,value='No')\n",
    "    \n",
    "#Fence\n",
    "data_aux.Fence.fillna(inplace=True,value='No')\n",
    "\n",
    "#MiscFeature\n",
    "data_aux.MiscFeature.fillna(inplace=True,value='No')\n",
    "    \n",
    "print(\"Missing values after insert No, i.e., real missing values: \" , data_aux.columns[data_aux.isnull().any()])\n"
   ]
  },
  {
   "cell_type": "markdown",
   "metadata": {},
   "source": [
    "These are the real missing values. Among the columns that were returned, we now going to treat the numeric fields. Note that these numeric fields had NA to denote a missing value. So, the dataset was using the same code to encode two different informations what would cause a lot of confusion!"
   ]
  },
  {
   "cell_type": "code",
   "execution_count": 109,
   "metadata": {
    "collapsed": true
   },
   "outputs": [],
   "source": [
    "#Numeric fields    \n",
    "\n",
    "from sklearn.preprocessing import Imputer\n",
    "imp = Imputer(missing_values='NaN', strategy='mean', axis=1)  #insert the mean   \n",
    "    \n",
    "#BsmtFinSF1\n",
    "#df.dropna(axis=0,subset=['BsmtFinSF1'],inplace=True)\n",
    "#df['BsmtFinSF1'] = imp.fit_transform(df['BsmtFinSF1'].reshape(1,-1)).transpose()    \n",
    "data_aux.BsmtFinSF1.fillna(inplace=True,value=0)\n",
    "    \n",
    "#BsmtFinSF2\n",
    "#df.dropna(axis=0,subset=['BsmtFinSF2'],inplace=True)\n",
    "#df['BsmtFinSF2'] = imp.fit_transform(df['BsmtFinSF2'].reshape(1,-1)).transpose()    \n",
    "data_aux.BsmtFinSF2.fillna(inplace=True,value=0)\n",
    "    \n",
    "#BsmtUnfSF\n",
    "#df.dropna(axis=0,subset=['BsmtUnfSF'],inplace=True)\n",
    "#df.drop('BsmtUnfSF',axis=1,inplace=True)\n",
    "#df['BsmtUnfSF'] = imp.fit_transform(df['BsmtUnfSF'].reshape(1,-1)).transpose()    \n",
    "data_aux.BsmtUnfSF.fillna(inplace=True,value=0)\n",
    "    \n",
    "#TotalBsmtSF\n",
    "#df.dropna(axis=0,subset=['TotalBsmtSF'],inplace=True)\n",
    "#df['TotalBsmtSF'] = imp.fit_transform(df['TotalBsmtSF'].reshape(1,-1)).transpose()    \n",
    "data_aux.TotalBsmtSF.fillna(value=0,inplace=True)\n",
    "    \n",
    "#BsmtFullBath - apenas na base de teste tem NA.Nao posso remover a linha\n",
    "#df['BsmtFullBath'] = imp.fit_transform(df['TotalBsmtSF'].reshape(1,-1)).transpose()    \n",
    "data_aux.BsmtFullBath.fillna(inplace=True,value=0)\n",
    "    \n",
    "#BsmtHalfBath- apenas na base de teste tem NA.Nao posso remover a linha\n",
    "#df['BsmtHalfBath'] = imp.fit_transform(df['BsmtHalfBath'].reshape(1,-1)).transpose()    \n",
    "data_aux.BsmtHalfBath.fillna(inplace=True,value=0)\n",
    "        \n",
    "#GarageCars\n",
    "#df.dropna(axis=0,subset=['GarageCars'],inplace=True)\n",
    "#df['GarageCars'] = imp.fit_transform(df['GarageCars'].reshape(1,-1)).transpose()    \n",
    "data_aux.GarageCars.fillna(value=0,inplace=True)\n",
    "    \n",
    "#GarageArea\n",
    "#df.dropna(axis=0,subset=['GarageArea'],inplace=True)\n",
    "#df['GarageArea'] = imp.fit_transform(df['GarageArea'].reshape(1,-1)).transpose()    \n",
    "data_aux.GarageArea.fillna(value=0,inplace=True)\n",
    "        \n",
    "#LotFrontage \n",
    "data_aux['LotFrontage'].fillna(inplace=True,value=0)\n",
    "    \n",
    "#GarageYrBlt - remove the hole column\n",
    "data_aux.GarageYrBlt.fillna(inplace=True,value=0)\n",
    "   \n",
    "#MasVnrArea \n",
    "data_aux.MasVnrArea.fillna(inplace=True,value=0)\n",
    "    "
   ]
  },
  {
   "cell_type": "markdown",
   "metadata": {},
   "source": [
    "These eleven fields had null values. My first impulse was to fill these missing values with the mean (average) of the whole values of each column or drop the hole column. Latter, i realized that would be better to set zero instead, as this approch could cause less bias. \n",
    "\n",
    "Next, we have to deal with the categorical values. In such cases i decided to fill with the most common value of each column, once more trying to cause the less bias as possible. "
   ]
  },
  {
   "cell_type": "code",
   "execution_count": 110,
   "metadata": {
    "collapsed": false
   },
   "outputs": [
    {
     "name": "stdout",
     "output_type": "stream",
     "text": [
      "Missing values after all:  Index(['SalePrice'], dtype='object')\n"
     ]
    }
   ],
   "source": [
    "#####Categorial fields\n",
    "\n",
    "\n",
    "#KitchenQual\n",
    "data_aux.KitchenQual = data_aux.KitchenQual.mode()[0]\n",
    "\n",
    "#Functional\n",
    "data_aux.Functional = data_aux.Functional.mode()[0]\n",
    "\n",
    "#Utilities\n",
    "data_aux.Utilities = data_aux.Utilities.mode()[0]  \n",
    "    \n",
    "#SaleType\n",
    "data_aux.SaleType  = data_aux.SaleType.mode()[0]\n",
    "    \n",
    "#Exterior1st- nao posso remover linhas do teste\n",
    "data_aux.Exterior1st = data_aux.Exterior1st.mode()[0]\n",
    "\n",
    "#Exterior2nd\n",
    "data_aux.Exterior2nd = data_aux.Exterior2nd.mode()[0]       \n",
    "\n",
    "#Electrical - remove the records where the value is NA\n",
    "data_aux.Electrical = df['Electrical'].mode()[0]\n",
    "\n",
    "#MSZoning   - tem NA apenas na base de teste. Como nao posso remover linhas removo a coluna   \n",
    "data_aux.MSZoning = data_aux.MSZoning.mode()[0]\n",
    "     \n",
    "#MasVnrType - remove the records where the value is NA \n",
    "data_aux.MasVnrType=df['MasVnrType'].mode()[0]\n",
    "\n",
    "\n",
    "print(\"Missing values after all: \" , data_aux.columns[data_aux.isnull().any()])\n"
   ]
  },
  {
   "cell_type": "markdown",
   "metadata": {},
   "source": [
    "We can see that now that there are no missing value. Of course SalePrice does not count because as we merge train and test, this column became empty for the test records.\n",
    "\n",
    "There is only one more thing to tackle. I have noticed this when i was navigating into Weka and looking the data. Categorical features where the categories are expressed by numbers are treated as quantitative values. This is an undesirable behaviour as we are planning to convert categorical to dummy values and this will not work for this columns. As the sklearn.feature_extraction documentation explains \n",
    "\n",
    "    \"When feature values are strings, this transformer will do a binary one-hot (aka one-of-K) coding: one boolean-valued feature is constructed for each of the possible string values that the feature can take on. For instance, a feature “f” that can take on the values “ham” and “spam” will become two features in the output, one signifying “f=ham”, the other “f=spam”.\n",
    "\n",
    "    However, note that this transformer will only do a binary one-hot encoding when feature values are of type string. If categorical features are represented as numeric values such as int, the DictVectorizer can be followed by OneHotEncoder to complete binary one-hot encoding.\"\n",
    "    \n"
   ]
  },
  {
   "cell_type": "code",
   "execution_count": 111,
   "metadata": {
    "collapsed": false
   },
   "outputs": [
    {
     "name": "stdout",
     "output_type": "stream",
     "text": [
      "int64\n",
      "object\n"
     ]
    }
   ],
   "source": [
    "#Converting numeric columns to nominal before applying dummy convertion\n",
    "#After converting to String they will be treated as categorical\n",
    "\n",
    "# MSSubClass as str\n",
    "print(data_aux['MSSubClass'].dtype)\n",
    "data_aux['MSSubClass'] = data_aux['MSSubClass'].astype(\"str\")\n",
    "print(data_aux['MSSubClass'].dtype)\n",
    "\n",
    "    \n",
    "# Converting OverallCond to str\n",
    "data_aux.OverallCond = data_aux.OverallCond.astype(\"str\")\n",
    "\n",
    "# KitchenAbvGr to categorical\n",
    "data_aux['KitchenAbvGr'] = data_aux['KitchenAbvGr'].astype(\"str\")\n",
    "    \n",
    "# Year and Month to categorical\n",
    "data_aux['YrSold'] = data_aux['YrSold'].astype(\"str\")\n",
    "data_aux['MoSold'] = data_aux['MoSold'].astype(\"str\")    \n"
   ]
  },
  {
   "cell_type": "markdown",
   "metadata": {},
   "source": [
    "The next step in transforming our dataset in one more suitable for being used by predictive models is to re encode the categorical columns. "
   ]
  },
  {
   "cell_type": "code",
   "execution_count": 112,
   "metadata": {
    "collapsed": false
   },
   "outputs": [
    {
     "name": "stdout",
     "output_type": "stream",
     "text": [
      "New shape train: (1460, 286)\n",
      "Index of SalePrice in the new dataset 26\n",
      "New shape test: (1459, 285)\n",
      "Null values train \n",
      " Index([], dtype='object')\n",
      "Null values test \n",
      " Index([], dtype='object')\n",
      "Columns only in test set :  Index([], dtype='object')\n",
      "Columns only in train set :  Index(['SalePrice'], dtype='object')\n"
     ]
    }
   ],
   "source": [
    "data_final = pd.get_dummies(data_aux)\n",
    "\n",
    "data_train = data_final.iloc[:-df_test.shape[0],:]\n",
    "\n",
    "print(\"New shape train:\" , np.shape(data_train))\n",
    "print(\"Index of SalePrice in the new dataset\" , data_train.columns.get_loc('SalePrice'))\n",
    "\n",
    "data_test = data_final.iloc[df.shape[0]:,:]\n",
    "data_test.drop('SalePrice',inplace=True,axis=1)\n",
    "\n",
    "print(\"New shape test:\" , np.shape(data_test))\n",
    " \n",
    "print(\"Null values train \\n\", data_train.columns[data_train.isnull().any()])\n",
    "print(\"Null values test \\n\", data_test.columns[data_test.isnull().any()])\n",
    "\n",
    "\n",
    "print(\"Columns only in test set : \" , data_test.columns.difference(data_train.columns))\n",
    "print(\"Columns only in train set : \" , data_train.columns.difference(data_test.columns))"
   ]
  },
  {
   "cell_type": "markdown",
   "metadata": {},
   "source": [
    "Voilà! We now have a new dataset with no null values. I have printed some diagnostic informations for us. \n",
    "\n",
    "    *Note that the difference in the number of columns between the train and test set is only one. Is is the expected if all the transformations we did were well done. This extra column in the train set is due to SalePrice.\n",
    "    *There are the same number of rows as in the begining. "
   ]
  },
  {
   "cell_type": "markdown",
   "metadata": {},
   "source": [
    "As the last step, we should select the approprieate features to make the best predicitions. It is usually not an easy task. I have seen several kernels making sofisticated analysis to figure out what variables should stay, what should go, whose should be combined to create new ones and so on. And the work worth while. Inadequate features can result not only in slow down the learning process but also they can disturb the fit process itself. I remember when i was working in the Titanic problem (a starter competition here in Kaggle) that picking just the \"Sex\" variable was enough to achieve top results and, furthermore, that selecting others features in fact resulted in the decrased of accuracy. \n",
    "\n",
    "My approach was try an automatic feature selection. To do that i have used some sklearn functions."
   ]
  },
  {
   "cell_type": "code",
   "execution_count": 113,
   "metadata": {
    "collapsed": true
   },
   "outputs": [],
   "source": [
    "from sklearn.ensemble import ExtraTreesRegressor\n",
    "from sklearn.feature_selection import SelectFromModel\n"
   ]
  },
  {
   "cell_type": "markdown",
   "metadata": {},
   "source": [
    "Basically we run a tree based learning mechanism, like Random Forests, and use the tree structure that these algorithms build to select the prevalent features choosen by them. "
   ]
  },
  {
   "cell_type": "code",
   "execution_count": 114,
   "metadata": {
    "collapsed": false
   },
   "outputs": [
    {
     "name": "stdout",
     "output_type": "stream",
     "text": [
      "Features selected with Tree-based selection \n",
      "\n",
      "['ExterQual_TA' 'GarageCars' 'OverallQual' 'BsmtQual_Ex' 'GrLivArea'\n",
      " 'FullBath' 'FireplaceQu_No' 'Neighborhood_NoRidge' '1stFlrSF' '2ndFlrSF'\n",
      " 'TotalBsmtSF' 'TotRmsAbvGrd' 'Fireplaces' 'BsmtFinSF1' 'LotArea'\n",
      " 'GarageArea' 'YearRemodAdd' 'GarageType_Attchd' 'BsmtFullBath'\n",
      " 'MSSubClass_60' 'YearBuilt' 'ExterQual_Fa' 'BsmtQual_Gd' 'BedroomAbvGr'\n",
      " 'BldgType_1Fam' 'BsmtExposure_Gd' 'LotShape_IR2' 'GarageType_Detchd'\n",
      " 'HalfBath' 'MasVnrArea']\n",
      "\n",
      " Relevance of each feature \n",
      "\n",
      "[[ 0.20862385  0.15586793  0.15164911  0.08432507  0.0632082   0.02316811\n",
      "   0.01905724  0.01775934  0.0157344   0.01555899  0.01302511  0.01181445\n",
      "   0.0111047   0.00886167  0.00756047  0.00592908  0.00570467  0.00516846\n",
      "   0.00492678  0.00452315  0.0044685   0.00423346  0.00410909  0.00408606\n",
      "   0.00388891  0.00377595  0.00351208  0.00340897  0.00324555  0.00306017]]\n",
      "\n",
      " New shape for train after Tree-based feature selection: (1460, 27)\n",
      "\n",
      " New shape for test after Tree-based feature selection: (1459, 27)\n",
      "\n",
      " End of the process of try selecting best features \n",
      "\n"
     ]
    }
   ],
   "source": [
    "#Tree-based feature selection\n",
    "y_train = (data_train['SalePrice'])\n",
    "x_train = (data_train.drop('SalePrice',axis=1))\n",
    "\n",
    "clf = ExtraTreesRegressor(n_estimators=20)\n",
    "clf = clf.fit(x_train,y_train)\n",
    "data = np.zeros((1,x_train.shape[1])) \n",
    "data = pd.DataFrame(data, columns=x_train.columns)\n",
    "data.iloc[0] = clf.feature_importances_\n",
    "data = data.T.sort_values(data.index[0], ascending=False).T\n",
    "\n",
    "print(\"Features selected with Tree-based selection \\n\")\n",
    "yyy = np.asarray((data.columns[0:30]))\n",
    "xxx = np.asarray((data.iloc[:,0:30]))\n",
    "print(yyy)\n",
    "print(\"\\n Relevance of each feature \\n\")\n",
    "print(xxx)\n",
    "\n",
    "model = SelectFromModel(clf, prefit=True)\n",
    "aux = model.transform(x_train)\n",
    "\n",
    "print(\"\\n New shape for train after Tree-based feature selection: {}\".format(aux.shape))\n",
    "data_train_less_features = pd.concat([pd.DataFrame(aux),pd.DataFrame(y_train)],axis=1)\n",
    "\n",
    "aux = model.transform((data_test))\n",
    "data_test_less_features = pd.DataFrame(aux)\n",
    "print(\"\\n New shape for test after Tree-based feature selection: {}\".format(aux.shape))\n",
    "\n",
    "\n",
    "print(\"\\n End of the process of try selecting best features \\n\")"
   ]
  },
  {
   "cell_type": "markdown",
   "metadata": {},
   "source": [
    "Lets take a look. The conclusion of the kernel \"Comprehensive data exploration with Python\" which took a different approach and made a long and detailed statistic analyse of the features and their relationship, was:\n",
    "\n",
    "    According to our crystal ball, these are the variables most correlated with 'SalePrice'. My thoughts on this:\n",
    "\n",
    "    'OverallQual', 'GrLivArea' and 'TotalBsmtSF' are strongly correlated with 'SalePrice'. Check!\n",
    "    'GarageCars' and 'GarageArea' are also some of the most strongly correlated variables. \n",
    "    'TotalBsmtSF' and '1stFlrSF' \n",
    "    'FullBath'?? Really?\n",
    "    'TotRmsAbvGrd' and 'GrLivArea' \n",
    "    'YearBuilt'... It seems that 'YearBuilt' is slightly correlated with 'SalePrice'. \n",
    "\n",
    "Lookly we can see that our approach resulted in the same set of variables. They are listed in order of relevance. Our dataset with less features have now between 25 to 30 columns. \n",
    "\n",
    "\n",
    "2. Linear Regression Models\n",
    "\n",
    "We now will start a serie of evaluations of different algorithms packed in the SKlearn python module. The aim is to collect some performance metric in order to compare the options. As we are dealing with a regression problem, the more appropriated metric is Root Mean Square Error or RMSE. \n",
    "\n",
    "Beforeall, lets normalize the data, what will be usefull for all the methods we are going to try. All the trainings will be done using cross validation with five folds.         \n",
    "    "
   ]
  },
  {
   "cell_type": "code",
   "execution_count": 115,
   "metadata": {
    "collapsed": true
   },
   "outputs": [],
   "source": [
    "#Normalization\n",
    "y_train_aux = ((data_train_less_features['SalePrice']))\n",
    "x_train_aux = (data_train_less_features.drop('SalePrice',axis=1))\n",
    "scaler = preprocessing.StandardScaler().fit((x_train_aux))\n",
    "x_train_scaled = scaler.transform((x_train_aux))\n",
    "\n",
    "#Some usefull packages\n",
    "from sklearn.model_selection import KFold\n",
    "from sklearn.model_selection import cross_val_score\n",
    "from sklearn.model_selection import cross_val_predict\n",
    "from sklearn   import metrics\n",
    "from sklearn.model_selection import train_test_split\n",
    "\n",
    "#Python dictionary to collect the results\n",
    "RMSE_results = {\n",
    "    \n",
    "    'LinearRegression':[0.0],\n",
    "    'Lasso':[0.0],\n",
    "    'Ridge':[0.0],\n",
    "    'SGDR':[0.0],\n",
    "    'ElasticNet':[0.0],\n",
    "    'SVM':[0.0],\n",
    "    'NN':[0.0],\n",
    "    'GradientBoosting':[0.0],\n",
    "    'RF':[0.0],\n",
    "    'TensorFlow':[0.0]\n",
    "}\n",
    "\n",
    "\n"
   ]
  },
  {
   "cell_type": "code",
   "execution_count": 116,
   "metadata": {
    "collapsed": false
   },
   "outputs": [
    {
     "name": "stdout",
     "output_type": "stream",
     "text": [
      "Linear Regression \n",
      "\n",
      "\n",
      " Average RMSE: 34691.96047677012\n"
     ]
    }
   ],
   "source": [
    "from sklearn.linear_model import LinearRegression, SGDRegressor, RidgeCV, Lasso, LassoCV, ElasticNetCV\n",
    "print(\"Linear Regression \\n\")\n",
    "\n",
    "#Cross validation\n",
    "classifierLinearRegression = LinearRegression()\n",
    "kf = KFold(5, random_state=7)    \n",
    "oos_y = []\n",
    "oos_pred = []\n",
    "fold = 0\n",
    "pred = []\n",
    "\n",
    "for training, test in kf.split(x_train):\n",
    "    fold+=1    \n",
    "    pred = []    \n",
    "    x_train_fold = x_train_scaled[training]\n",
    "    y_train_fold = y_train[training]\n",
    "    x_test_fold = x_train_scaled[test]\n",
    "    y_test_fold = y_train[test]\n",
    "    \n",
    "    classifierLinearRegression = classifierLinearRegression.fit(x_train_fold, y_train_fold)\n",
    "    pred = classifierLinearRegression.predict(x_test_fold)\n",
    "    oos_y.append(y_test_fold)\n",
    "    oos_pred.append(pred)        \n",
    "\n",
    "    \n",
    "#Build the oos prediction list and calculate the error.\n",
    "oos_y = np.concatenate(oos_y)\n",
    "oos_pred = np.concatenate(oos_pred)\n",
    "score = np.sqrt(metrics.mean_squared_error(oos_y,oos_pred))\n",
    "print(\"\\n Average RMSE: {}\".format(score))    \n",
    "RMSE_results['LinearRegression'] = score"
   ]
  },
  {
   "cell_type": "code",
   "execution_count": 117,
   "metadata": {
    "collapsed": false
   },
   "outputs": [
    {
     "name": "stdout",
     "output_type": "stream",
     "text": [
      "SGDRegressor \n",
      "\n",
      "\n",
      "\n",
      " Average RMSE: 34367.65428644493\n"
     ]
    }
   ],
   "source": [
    "print(\"SGDRegressor \\n\\n\")\n",
    "\n",
    "classifier = SGDRegressor()\n",
    "\n",
    "kf = KFold(5, random_state=7)    \n",
    "oos_y = []\n",
    "oos_pred = []\n",
    "fold = 0\n",
    "pred = []\n",
    "for training, test in kf.split(x_train_scaled):\n",
    "    fold+=1\n",
    "    x_train_fold = x_train_scaled[training]\n",
    "    y_train_fold = y_train[training]\n",
    "    x_test_fold = x_train_scaled[test]\n",
    "    y_test_fold = y_train[test]\n",
    "    \n",
    "    classifier.fit(x_train_fold, y_train_fold)\n",
    "    pred = classifier.predict(x_test_fold)\n",
    "    oos_y.append(y_test_fold)\n",
    "    oos_pred.append(pred)        \n",
    "\n",
    "# Build the oos prediction list and calculate the error.\n",
    "oos_y = np.concatenate(oos_y)\n",
    "oos_pred = np.concatenate(oos_pred)\n",
    "score = np.sqrt(metrics.mean_squared_error(oos_y,oos_pred))\n",
    "print(\"\\n Average RMSE: {}\".format(score))    \n",
    "RMSE_results['SGDR'] = score"
   ]
  },
  {
   "cell_type": "code",
   "execution_count": 118,
   "metadata": {
    "collapsed": false
   },
   "outputs": [
    {
     "name": "stdout",
     "output_type": "stream",
     "text": [
      "Ridge \n",
      "\n",
      "\n",
      "\n",
      " Average RMSE: 34553.833293763644\n"
     ]
    }
   ],
   "source": [
    "print(\"Ridge \\n\\n\")\n",
    "\n",
    "classifier = RidgeCV()\n",
    "\n",
    "kf = KFold(5, random_state=7)    \n",
    "oos_y = []\n",
    "oos_pred = []\n",
    "fold = 0\n",
    "pred = []\n",
    "for training, test in kf.split(x_train_scaled):\n",
    "    fold+=1\n",
    "    x_train_fold = x_train_scaled[training]\n",
    "    y_train_fold = y_train[training]\n",
    "    x_test_fold = x_train_scaled[test]\n",
    "    y_test_fold = y_train[test]\n",
    "    \n",
    "    classifier.fit(x_train_fold, y_train_fold)\n",
    "    pred = classifier.predict(x_test_fold)\n",
    "    oos_y.append(y_test_fold)\n",
    "    oos_pred.append(pred)        \n",
    "\n",
    "# Build the oos prediction list and calculate the error.\n",
    "oos_y = np.concatenate(oos_y)\n",
    "oos_pred = np.concatenate(oos_pred)\n",
    "score = np.sqrt(metrics.mean_squared_error(oos_y,oos_pred))\n",
    "print(\"\\n Average RMSE: {}\".format(score))    \n",
    "RMSE_results['Ridge'] = score"
   ]
  },
  {
   "cell_type": "code",
   "execution_count": 119,
   "metadata": {
    "collapsed": false
   },
   "outputs": [
    {
     "name": "stdout",
     "output_type": "stream",
     "text": [
      "Lasso \n",
      "\n",
      "\n",
      "\n",
      " Average RMSE: 34764.943367012645\n"
     ]
    }
   ],
   "source": [
    "print(\"Lasso \\n\\n\")\n",
    "\n",
    "classifier = LassoCV()\n",
    "\n",
    "kf = KFold(5, random_state=7)    \n",
    "oos_y = []\n",
    "oos_pred = []\n",
    "fold = 0\n",
    "pred = []\n",
    "for training, test in kf.split(x_train_scaled):\n",
    "    fold+=1\n",
    "        \n",
    "    x_train_fold = x_train_scaled[training]\n",
    "    y_train_fold = y_train[training]\n",
    "    x_test_fold = x_train_scaled[test]\n",
    "    y_test_fold = y_train[test]\n",
    "    \n",
    "    classifier.fit(x_train_fold, y_train_fold)\n",
    "    pred = classifier.predict(x_test_fold)\n",
    "    oos_y.append(y_test_fold)\n",
    "    oos_pred.append(pred)        \n",
    "\n",
    "# Build the oos prediction list and calculate the error.\n",
    "oos_y = np.concatenate(oos_y)\n",
    "oos_pred = np.concatenate(oos_pred)\n",
    "score = np.sqrt(metrics.mean_squared_error(oos_y,oos_pred))\n",
    "print(\"\\n Average RMSE: {}\".format(score))    \n",
    "RMSE_results['Lasso'] = score"
   ]
  },
  {
   "cell_type": "code",
   "execution_count": 120,
   "metadata": {
    "collapsed": false
   },
   "outputs": [
    {
     "name": "stdout",
     "output_type": "stream",
     "text": [
      "Elastic Net \n",
      "\n",
      "\n",
      "\n",
      " Average RMSE: 72965.30667819285\n"
     ]
    }
   ],
   "source": [
    "print(\"Elastic Net \\n\\n\")\n",
    "\n",
    "classifier = ElasticNetCV()\n",
    "\n",
    "kf = KFold(5, random_state=7)    \n",
    "oos_y = []\n",
    "oos_pred = []\n",
    "fold = 0\n",
    "pred = []\n",
    "for training, test in kf.split(x_train_scaled):\n",
    "    fold+=1\n",
    "        \n",
    "    x_train_fold = x_train_scaled[training]\n",
    "    y_train_fold = y_train[training]\n",
    "    x_test_fold = x_train_scaled[test]\n",
    "    y_test_fold = y_train[test]\n",
    "    \n",
    "    classifier.fit(x_train_fold, y_train_fold)\n",
    "    pred = classifier.predict(x_test_fold)\n",
    "    oos_y.append(y_test_fold)\n",
    "    oos_pred.append(pred)        \n",
    "\n",
    "\n",
    "# Build the oos prediction list and calculate the error.\n",
    "oos_y = np.concatenate(oos_y)\n",
    "oos_pred = np.concatenate(oos_pred)\n",
    "score = np.sqrt(metrics.mean_squared_error(oos_y,oos_pred))\n",
    "print(\"\\n Average RMSE: {}\".format(score))    \n",
    "RMSE_results['ElasticNet'] = score"
   ]
  },
  {
   "cell_type": "markdown",
   "metadata": {},
   "source": [
    "Lets compare the results so far. "
   ]
  },
  {
   "cell_type": "code",
   "execution_count": 121,
   "metadata": {
    "collapsed": false
   },
   "outputs": [
    {
     "data": {
      "text/plain": [
       "<matplotlib.axes._subplots.AxesSubplot at 0x7fb765500400>"
      ]
     },
     "execution_count": 121,
     "metadata": {},
     "output_type": "execute_result"
    },
    {
     "data": {
      "image/png": "[encoded data removed]",
      "text/plain": [
       "<matplotlib.figure.Figure at 0x7fb7c661a9b0>"
      ]
     },
     "metadata": {},
     "output_type": "display_data"
    }
   ],
   "source": [
    "df = pd.DataFrame(RMSE_results)\n",
    "df.plot(kind='bar')"
   ]
  },
  {
   "cell_type": "code",
   "execution_count": 122,
   "metadata": {
    "collapsed": false
   },
   "outputs": [
    {
     "name": "stdout",
     "output_type": "stream",
     "text": [
      "SVM\n",
      "\n",
      " Average RMSE less features: 34176.82166199838\n"
     ]
    }
   ],
   "source": [
    "from sklearn.svm import SVR\n",
    "print(\"SVM\")\n",
    "\n",
    "classifierSVR = SVR(kernel='linear', C=1e4) \n",
    "kf = KFold(5, random_state=7)    \n",
    "oos_y = []\n",
    "oos_pred = []\n",
    "fold = 0\n",
    "\n",
    "for training, test in kf.split(x_train_scaled):\n",
    "    fold+=1\n",
    "        \n",
    "    x_train_fold = x_train_scaled[training]\n",
    "    y_train_fold = y_train[training]\n",
    "    x_test_fold = x_train_scaled[test]\n",
    "    y_test_fold = y_train[test]\n",
    "    \n",
    "    classifierSVR = classifierSVR.fit(x_train_fold, y_train_fold)\n",
    "    pred = classifierSVR.predict(x_test_fold)\n",
    "    oos_y.append(y_test_fold)\n",
    "    oos_pred.append(pred)        \n",
    "\n",
    "\n",
    "# Build the oos prediction list and calculate the error.\n",
    "oos_y = np.concatenate(oos_y)\n",
    "oos_pred = np.concatenate(oos_pred)\n",
    "score = np.sqrt(metrics.mean_squared_error(oos_y,oos_pred))\n",
    "print(\"\\n Average RMSE less features: {}\".format(score))    \n",
    "\n",
    "RMSE_results['SVM'] = score"
   ]
  },
  {
   "cell_type": "code",
   "execution_count": 123,
   "metadata": {
    "collapsed": false
   },
   "outputs": [
    {
     "name": "stdout",
     "output_type": "stream",
     "text": [
      "Neural Network\n",
      "\n",
      "\n",
      "\n",
      "\n",
      " Average RMSE: 37946.73106235929\n"
     ]
    }
   ],
   "source": [
    "from sklearn.neural_network import MLPRegressor\n",
    "\n",
    "# Shuffle\n",
    "print(\"Neural Network\")\n",
    "print(\"\\n\\n\")\n",
    "\n",
    "classifier = MLPRegressor(solver='lbfgs', alpha=1e-5, hidden_layer_sizes=(80,50,20), random_state=1)\n",
    "kf = KFold(5, random_state=7)    \n",
    "oos_y = []\n",
    "oos_pred = []\n",
    "fold = 0\n",
    "\n",
    "for training, test in kf.split(x_train_scaled):\n",
    "    fold+=1    \n",
    "        \n",
    "    x_train_fold = x_train_scaled[training]\n",
    "    y_train_fold = y_train[training]\n",
    "    x_test_fold = x_train_scaled[test]\n",
    "    y_test_fold = y_train[test]\n",
    "    \n",
    "    classifier.fit(x_train_fold, y_train_fold)\n",
    "    pred = classifier.predict(x_test_fold)\n",
    "    oos_y.append(y_test_fold)\n",
    "    oos_pred.append(pred)        \n",
    "\n",
    "   \n",
    "# Build the oos prediction list and calculate the error.\n",
    "oos_y = np.concatenate(oos_y)\n",
    "oos_pred = np.concatenate(oos_pred)\n",
    "score = np.sqrt(metrics.mean_squared_error(oos_y,oos_pred))\n",
    "print(\"\\n Average RMSE: {}\".format(score))    \n",
    "\n",
    "RMSE_results['NN'] = score"
   ]
  },
  {
   "cell_type": "code",
   "execution_count": 124,
   "metadata": {
    "collapsed": false
   },
   "outputs": [
    {
     "name": "stdout",
     "output_type": "stream",
     "text": [
      "\n",
      " Random Forests \n",
      "\n",
      "\n",
      "\n",
      " Full Features \n",
      "\n",
      "\n",
      "\n",
      " Average RMSE using all features, cross validation and normalizing: 32054.066267010054\n",
      "\n",
      " oob score using all features cross validation and normalizing: 0.844214222648654\n",
      "\n",
      "\n",
      " Less features \n",
      "\n",
      "\n",
      "\n",
      " Average RMSE (cross) less features, normalizing: 29694.744396017108\n",
      "\n",
      " oob score (cross) less features, normalizing: 0.8496470533775491\n"
     ]
    }
   ],
   "source": [
    "##Random Forests\n",
    "from sklearn.ensemble import RandomForestRegressor\n",
    "\n",
    "# Shuffle\n",
    "print(\"\\n Random Forests \\n\\n\")\n",
    "print(\"\\n Full Features \\n\\n\")\n",
    "np.random.seed(42)\n",
    "data_train = data_train.reindex(np.random.permutation(data_train.index))\n",
    "data_train.reset_index(inplace=True, drop=True)\n",
    "\n",
    "y_train_rf = ((data_train['SalePrice']))\n",
    "x_train = (data_train.drop('SalePrice',axis=1))\n",
    "scaler = preprocessing.StandardScaler().fit((x_train))\n",
    "x_train = scaler.transform((x_train))\n",
    "\n",
    "classifierAllFeatures = RandomForestRegressor(n_estimators=60,oob_score=True)\n",
    "\n",
    "kf = KFold(5, random_state=7)    \n",
    "oos_y = []\n",
    "oos_pred = []\n",
    "fold = 0\n",
    "\n",
    "for training, test in kf.split(x_train):\n",
    "    fold+=1\n",
    "    x_train_fold = x_train[training]\n",
    "    y_train_fold = y_train_rf[training]\n",
    "    x_test_fold = x_train[test]\n",
    "    y_test_fold = y_train_rf[test]\n",
    "    \n",
    "    classifierAllFeatures.fit(x_train_fold, y_train_fold)\n",
    "    pred = classifierAllFeatures.predict(x_test_fold)\n",
    "    oos_y.append(y_test_fold)\n",
    "    oos_pred.append(pred)        \n",
    "\n",
    "# Build the oos prediction list and calculate the error.\n",
    "oos_y = np.concatenate(oos_y)\n",
    "oos_pred = np.concatenate(oos_pred)\n",
    "score = np.sqrt(metrics.mean_squared_error(oos_y,oos_pred))\n",
    "print(\"\\n Average RMSE using all features, cross validation and normalizing: {}\".format(score))    \n",
    "print(\"\\n oob score using all features cross validation and normalizing: {}\".format(classifierAllFeatures.oob_score_))    \n",
    "\n",
    "\n",
    "###########Less features\n",
    "print(\"\\n\\n Less features \\n\\n\")\n",
    "\n",
    "\n",
    "kf = KFold(n_splits=5, random_state=7)    \n",
    "\n",
    "oos_y = []\n",
    "oos_pred = []\n",
    "fold = 0\n",
    "pred = []\n",
    "\n",
    "classifierRF_lessFeatures = RandomForestRegressor(n_estimators=60,oob_score=True)\n",
    "\n",
    "for training, test in kf.split(x_train_scaled):\n",
    "    fold+=1\n",
    "    x_train_fold = x_train_scaled[training]\n",
    "    y_train_fold = y_train[training]\n",
    "    x_test_fold = x_train_scaled[test]\n",
    "    y_test_fold = y_train[test]\n",
    "    \n",
    "    classifierRF_lessFeatures.fit(x_train_fold, y_train_fold)\n",
    "    pred = classifierRF_lessFeatures.predict(x_test_fold)\n",
    "    oos_y.append(y_test_fold)\n",
    "    oos_pred.append(pred)        \n",
    "\n",
    "# Build the oos prediction list and calculate the error.\n",
    "oos_y = np.concatenate(oos_y)\n",
    "oos_pred = np.concatenate(oos_pred)\n",
    "score = np.sqrt(metrics.mean_squared_error(oos_y,oos_pred))\n",
    "print(\"\\n Average RMSE (cross) less features, normalizing: {}\".format(score))    \n",
    "print(\"\\n oob score (cross) less features, normalizing: {}\".format(classifierRF_lessFeatures.oob_score_))    \n",
    "\n",
    "RMSE_results['RF'] = score"
   ]
  },
  {
   "cell_type": "markdown",
   "metadata": {},
   "source": [
    "Random Forests is one of the most versatile and precise classifier. It does nod need the data being normalized and can deal with any number of features. So, i have tried something new this time. I did two trainings, one with all the features and other with the features we had choosen previously. \n",
    "\n",
    "As you can see, it did well in both cases. This test was also interesting to validate our automatic selected features. Seems they were really good options. "
   ]
  },
  {
   "cell_type": "code",
   "execution_count": 125,
   "metadata": {
    "collapsed": false
   },
   "outputs": [
    {
     "name": "stdout",
     "output_type": "stream",
     "text": [
      "\n",
      "\n",
      " Gradient Boosting \n",
      "\n",
      "\n",
      "Mean squared error: 34522.18856495878\n"
     ]
    }
   ],
   "source": [
    "from sklearn.ensemble import GradientBoostingRegressor\n",
    "print(\"\\n\\n Gradient Boosting \\n\\n\")\n",
    "\n",
    "\n",
    "classifierGBR = GradientBoostingRegressor(n_estimators=1100, learning_rate=0.05, \n",
    "                                               min_samples_leaf=25, min_samples_split=20, loss='huber')\n",
    "\n",
    "# Split into train/test\n",
    "x_train, x_test, y_train_gb, y_test = train_test_split(x_train_scaled,y_train,test_size=0.20, random_state=43)\n",
    "\n",
    "classifierGBR.fit(x_train, y_train_gb)\n",
    "\n",
    "# The mean squared error\n",
    "pred = classifierGBR.predict(x_test)\n",
    "score = np.sqrt(metrics.mean_squared_error(y_test, pred))\n",
    "print(\"Mean squared error: {}\".format(score))\n",
    "\n",
    "RMSE_results['GradientBoosting'] = score"
   ]
  },
  {
   "cell_type": "code",
   "execution_count": 126,
   "metadata": {
    "collapsed": false
   },
   "outputs": [
    {
     "name": "stdout",
     "output_type": "stream",
     "text": [
      " \n",
      " TensorFlow \n",
      "\n",
      "\n",
      "Fold #1\n",
      "Fold score (RMSE): 28717.57\n",
      "Fold #2\n",
      "Fold score (RMSE): 35082.43\n",
      "Fold #3\n",
      "Fold score (RMSE): 31793.14\n",
      "Fold #4\n",
      "Fold score (RMSE): 23691.11\n",
      "Fold #5\n",
      "Fold score (RMSE): 35482.55\n",
      "\n",
      " Average RMSE: 31261.98945621981\n"
     ]
    }
   ],
   "source": [
    "import tensorflow as tf\n",
    "import tensorflow.contrib.learn as learn\n",
    "import shutil \n",
    "import os\n",
    "\n",
    "print(\" \\n TensorFlow \\n\\n\")\n",
    "\n",
    "sess = tf.Session(config=tf.ConfigProto(log_device_placement=True))\n",
    "\n",
    "# Set the desired TensorFlow output level for this example\n",
    "tf.logging.set_verbosity(tf.logging.ERROR)\n",
    "\n",
    "\n",
    "feature_columns = [tf.contrib.layers.real_valued_column(\"\", dimension=x_train.shape[1])]\n",
    "classifierDNN = learn.DNNRegressor(\n",
    "                                   #hidden_units=[200,100, 80, 80, 50, 50, 80,80], \n",
    "                                   hidden_units=[ 80, 80, 20], \n",
    "                                   feature_columns=feature_columns,                                   \n",
    "                                  )\n",
    "\n",
    "\n",
    "kf = KFold(5, random_state=7)    \n",
    "oos_y = []\n",
    "oos_pred = []\n",
    "fold = 0\n",
    "\n",
    "for training, test in kf.split(x_train_scaled):\n",
    "    fold+=1\n",
    "    print(\"Fold #{}\".format(fold))\n",
    "        \n",
    "    x_train_fold = x_train_scaled[training]\n",
    "    y_train_fold = y_train[training]\n",
    "    x_test_fold = x_train_scaled[test]\n",
    "    y_test_fold = y_train[test]\n",
    "    \n",
    "    # Early stopping\n",
    "    validation_monitor = tf.contrib.learn.monitors.ValidationMonitor(\n",
    "    x_test_fold,\n",
    "    y_test_fold,\n",
    "    every_n_steps=500,\n",
    "    #metrics=validation_metrics,\n",
    "    early_stopping_metric=\"loss\",\n",
    "    early_stopping_metric_minimize=True,\n",
    "    early_stopping_rounds=400)\n",
    "        \n",
    "    classifierDNN.fit(x_train_fold, y_train_fold, monitors=[validation_monitor] ,steps=1000)\n",
    "    pred = (list(classifierDNN.predict(x_test_fold, as_iterable=True)))\n",
    "    \n",
    "    oos_y.append(y_test_fold)\n",
    "    oos_pred.append(pred)        \n",
    "\n",
    "    # Measure accuracy    \n",
    "    score = np.sqrt(metrics.mean_squared_error(y_test_fold,pred))\n",
    "    print(\"Fold score (RMSE): %.2f\" %(score))\n",
    "\n",
    "\n",
    "# Build the oos prediction list and calculate the error.\n",
    "oos_y = np.concatenate(oos_y)\n",
    "oos_pred = np.concatenate(oos_pred)\n",
    "score = np.sqrt(metrics.mean_squared_error(oos_y,oos_pred))\n",
    "print(\"\\n Average RMSE: {}\".format(score))    \n",
    "\n",
    "RMSE_results['TensorFlow'] = score"
   ]
  },
  {
   "cell_type": "markdown",
   "metadata": {},
   "source": [
    "Done! We have tested ten different classifiers in the House Prices problem. Lets now compare the performance of each one. "
   ]
  },
  {
   "cell_type": "code",
   "execution_count": 131,
   "metadata": {
    "collapsed": false
   },
   "outputs": [
    {
     "data": {
      "text/plain": [
       "<matplotlib.axes._subplots.AxesSubplot at 0x7fb750158e10>"
      ]
     },
     "execution_count": 131,
     "metadata": {},
     "output_type": "execute_result"
    },
    {
     "data": {
      "image/png": "[encoded data removed]",
      "text/plain": [
       "<matplotlib.figure.Figure at 0x7fb7504a9160>"
      ]
     },
     "metadata": {},
     "output_type": "display_data"
    }
   ],
   "source": [
    "df = pd.DataFrame(RMSE_results,index=[0])\n",
    "df.plot(kind='bar',title=\"Comparison of regression models\",figsize=(10,10))"
   ]
  },
  {
   "cell_type": "markdown",
   "metadata": {},
   "source": [
    "To conclude, lets try one more technique that, in general, leads to good results. They are called Ensemble Methods and consist of combine different procedures to achieve a better outcome. I have used the \"avering ensemble method\" which is literally take the average of some results."
   ]
  },
  {
   "cell_type": "code",
   "execution_count": 133,
   "metadata": {
    "collapsed": false
   },
   "outputs": [],
   "source": [
    "#Emsemble via avereging\n",
    "\n",
    "final_labels = (\n",
    "                (classifierLinearRegression.predict((data_test_less_features)))  \n",
    "                + (classifierSVR.predict((data_test_less_features))) \n",
    "                + (classifierRF_lessFeatures.predict((data_test_less_features)))\n",
    "                + (classifierGBR.predict((data_test_less_features)))                 \n",
    "               ) / 4\n",
    "\n"
   ]
  }
 ],
 "metadata": {
  "anaconda-cloud": {},
  "kernelspec": {
   "display_name": "Python [conda root]",
   "language": "python",
   "name": "conda-root-py"
  },
  "language_info": {
   "codemirror_mode": {
    "name": "ipython",
    "version": 3
   },
   "file_extension": ".py",
   "mimetype": "text/x-python",
   "name": "python",
   "nbconvert_exporter": "python",
   "pygments_lexer": "ipython3",
   "version": "3.5.2"
  }
 },
 "nbformat": 4,
 "nbformat_minor": 1
}
